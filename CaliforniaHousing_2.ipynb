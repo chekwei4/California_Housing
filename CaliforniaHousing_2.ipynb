{
  "nbformat": 4,
  "nbformat_minor": 0,
  "metadata": {
    "colab": {
      "name": "CaliforniaHousing_2.ipynb",
      "provenance": [],
      "collapsed_sections": [],
      "toc_visible": true
    },
    "kernelspec": {
      "name": "python3",
      "display_name": "Python 3"
    },
    "language_info": {
      "name": "python"
    }
  },
  "cells": [
    {
      "cell_type": "code",
      "metadata": {
        "id": "B66A8c2Z4XN1"
      },
      "source": [
        "import os\n",
        "import tarfile\n",
        "from six.moves import urllib\n",
        "DOWNLOAD_ROOT = \"https://raw.githubusercontent.com/ageron/handson-ml2/master/\"\n",
        "HOUSING_PATH = os.path.join(\"datasets\", \"housing\")\n",
        "HOUSING_URL = DOWNLOAD_ROOT + \"datasets/housing/housing.tgz\"\n",
        "def fetch_housing_data(housing_url=HOUSING_URL, housing_path=HOUSING_PATH): \n",
        "  if not os.path.isdir(housing_path):\n",
        "    os.makedirs(housing_path)\n",
        "  tgz_path = os.path.join(housing_path, \"housing.tgz\")\n",
        "  urllib.request.urlretrieve(housing_url, tgz_path)\n",
        "  housing_tgz = tarfile.open(tgz_path)\n",
        "  housing_tgz.extractall(path=housing_path)\n",
        "  housing_tgz.close()"
      ],
      "execution_count": 1,
      "outputs": []
    },
    {
      "cell_type": "code",
      "metadata": {
        "id": "_mxX0K7z4omX"
      },
      "source": [
        "import pandas as pd\n",
        "def load_housing_data(housing_path=HOUSING_PATH): \n",
        "  csv_path = os.path.join(housing_path, \"housing.csv\") \n",
        "  return pd.read_csv(csv_path)"
      ],
      "execution_count": 2,
      "outputs": []
    },
    {
      "cell_type": "code",
      "metadata": {
        "id": "mRKQ-iHb4o1s"
      },
      "source": [
        "fetch_housing_data()\n",
        "housing_df = load_housing_data()"
      ],
      "execution_count": 3,
      "outputs": []
    },
    {
      "cell_type": "code",
      "metadata": {
        "id": "NcZMgcR-Tezc"
      },
      "source": [
        "housing_df_original = housing_df.copy()"
      ],
      "execution_count": 7,
      "outputs": []
    },
    {
      "cell_type": "code",
      "metadata": {
        "colab": {
          "base_uri": "https://localhost:8080/",
          "height": 224
        },
        "id": "B45eQJu64qjC",
        "outputId": "a04937a8-187b-483b-ca8f-017613f10fb6"
      },
      "source": [
        "housing_df.head()"
      ],
      "execution_count": 6,
      "outputs": [
        {
          "output_type": "execute_result",
          "data": {
            "text/html": [
              "<div>\n",
              "<style scoped>\n",
              "    .dataframe tbody tr th:only-of-type {\n",
              "        vertical-align: middle;\n",
              "    }\n",
              "\n",
              "    .dataframe tbody tr th {\n",
              "        vertical-align: top;\n",
              "    }\n",
              "\n",
              "    .dataframe thead th {\n",
              "        text-align: right;\n",
              "    }\n",
              "</style>\n",
              "<table border=\"1\" class=\"dataframe\">\n",
              "  <thead>\n",
              "    <tr style=\"text-align: right;\">\n",
              "      <th></th>\n",
              "      <th>longitude</th>\n",
              "      <th>latitude</th>\n",
              "      <th>housing_median_age</th>\n",
              "      <th>total_rooms</th>\n",
              "      <th>total_bedrooms</th>\n",
              "      <th>population</th>\n",
              "      <th>households</th>\n",
              "      <th>median_income</th>\n",
              "      <th>median_house_value</th>\n",
              "      <th>ocean_proximity</th>\n",
              "    </tr>\n",
              "  </thead>\n",
              "  <tbody>\n",
              "    <tr>\n",
              "      <th>0</th>\n",
              "      <td>-122.23</td>\n",
              "      <td>37.88</td>\n",
              "      <td>41.0</td>\n",
              "      <td>880.0</td>\n",
              "      <td>129.0</td>\n",
              "      <td>322.0</td>\n",
              "      <td>126.0</td>\n",
              "      <td>8.3252</td>\n",
              "      <td>452600.0</td>\n",
              "      <td>NEAR BAY</td>\n",
              "    </tr>\n",
              "    <tr>\n",
              "      <th>1</th>\n",
              "      <td>-122.22</td>\n",
              "      <td>37.86</td>\n",
              "      <td>21.0</td>\n",
              "      <td>7099.0</td>\n",
              "      <td>1106.0</td>\n",
              "      <td>2401.0</td>\n",
              "      <td>1138.0</td>\n",
              "      <td>8.3014</td>\n",
              "      <td>358500.0</td>\n",
              "      <td>NEAR BAY</td>\n",
              "    </tr>\n",
              "    <tr>\n",
              "      <th>2</th>\n",
              "      <td>-122.24</td>\n",
              "      <td>37.85</td>\n",
              "      <td>52.0</td>\n",
              "      <td>1467.0</td>\n",
              "      <td>190.0</td>\n",
              "      <td>496.0</td>\n",
              "      <td>177.0</td>\n",
              "      <td>7.2574</td>\n",
              "      <td>352100.0</td>\n",
              "      <td>NEAR BAY</td>\n",
              "    </tr>\n",
              "    <tr>\n",
              "      <th>3</th>\n",
              "      <td>-122.25</td>\n",
              "      <td>37.85</td>\n",
              "      <td>52.0</td>\n",
              "      <td>1274.0</td>\n",
              "      <td>235.0</td>\n",
              "      <td>558.0</td>\n",
              "      <td>219.0</td>\n",
              "      <td>5.6431</td>\n",
              "      <td>341300.0</td>\n",
              "      <td>NEAR BAY</td>\n",
              "    </tr>\n",
              "    <tr>\n",
              "      <th>4</th>\n",
              "      <td>-122.25</td>\n",
              "      <td>37.85</td>\n",
              "      <td>52.0</td>\n",
              "      <td>1627.0</td>\n",
              "      <td>280.0</td>\n",
              "      <td>565.0</td>\n",
              "      <td>259.0</td>\n",
              "      <td>3.8462</td>\n",
              "      <td>342200.0</td>\n",
              "      <td>NEAR BAY</td>\n",
              "    </tr>\n",
              "  </tbody>\n",
              "</table>\n",
              "</div>"
            ],
            "text/plain": [
              "   longitude  latitude  ...  median_house_value  ocean_proximity\n",
              "0    -122.23     37.88  ...            452600.0         NEAR BAY\n",
              "1    -122.22     37.86  ...            358500.0         NEAR BAY\n",
              "2    -122.24     37.85  ...            352100.0         NEAR BAY\n",
              "3    -122.25     37.85  ...            341300.0         NEAR BAY\n",
              "4    -122.25     37.85  ...            342200.0         NEAR BAY\n",
              "\n",
              "[5 rows x 10 columns]"
            ]
          },
          "metadata": {
            "tags": []
          },
          "execution_count": 6
        }
      ]
    },
    {
      "cell_type": "code",
      "metadata": {
        "colab": {
          "base_uri": "https://localhost:8080/"
        },
        "id": "ANFzYrRY45a8",
        "outputId": "8f96c7e8-c5b3-4655-82c6-f7f16d732f37"
      },
      "source": [
        "housing_df.info()"
      ],
      "execution_count": 8,
      "outputs": [
        {
          "output_type": "stream",
          "text": [
            "<class 'pandas.core.frame.DataFrame'>\n",
            "RangeIndex: 20640 entries, 0 to 20639\n",
            "Data columns (total 10 columns):\n",
            " #   Column              Non-Null Count  Dtype  \n",
            "---  ------              --------------  -----  \n",
            " 0   longitude           20640 non-null  float64\n",
            " 1   latitude            20640 non-null  float64\n",
            " 2   housing_median_age  20640 non-null  float64\n",
            " 3   total_rooms         20640 non-null  float64\n",
            " 4   total_bedrooms      20433 non-null  float64\n",
            " 5   population          20640 non-null  float64\n",
            " 6   households          20640 non-null  float64\n",
            " 7   median_income       20640 non-null  float64\n",
            " 8   median_house_value  20640 non-null  float64\n",
            " 9   ocean_proximity     20640 non-null  object \n",
            "dtypes: float64(9), object(1)\n",
            "memory usage: 1.6+ MB\n"
          ],
          "name": "stdout"
        }
      ]
    },
    {
      "cell_type": "code",
      "metadata": {
        "colab": {
          "base_uri": "https://localhost:8080/"
        },
        "id": "oRjRLFPr2lcV",
        "outputId": "244d3ac8-fb3b-4c8d-9f36-d3af4efe82ed"
      },
      "source": [
        "housing_df.shape"
      ],
      "execution_count": 9,
      "outputs": [
        {
          "output_type": "execute_result",
          "data": {
            "text/plain": [
              "(20640, 10)"
            ]
          },
          "metadata": {
            "tags": []
          },
          "execution_count": 9
        }
      ]
    },
    {
      "cell_type": "code",
      "metadata": {
        "colab": {
          "base_uri": "https://localhost:8080/",
          "height": 650
        },
        "id": "aEv_odD16ADe",
        "outputId": "0e7dc8cd-0ca6-4222-ad13-aa475cb5f12c"
      },
      "source": [
        "import matplotlib.pyplot as plt \n",
        "\n",
        "housing_df.hist(bins=50, figsize=(20,15))\n",
        "plt.show()"
      ],
      "execution_count": 10,
      "outputs": [
        {
          "output_type": "display_data",
          "data": {
            "image/png": "[encoded data removed]",
            "text/plain": [
              "<Figure size 1440x1080 with 9 Axes>"
            ]
          },
          "metadata": {
            "tags": [],
            "needs_background": "light"
          }
        }
      ]
    },
    {
      "cell_type": "code",
      "metadata": {
        "colab": {
          "base_uri": "https://localhost:8080/",
          "height": 596
        },
        "id": "jQHarIP54sA3",
        "outputId": "f6a9608d-f40d-493c-aa57-ed5492ef0a23"
      },
      "source": [
        "import numpy as np\n",
        "import matplotlib.pyplot as plt\n",
        "import seaborn as sns\n",
        "plt.figure(figsize=(10,8))\n",
        "sns.heatmap(housing_df.isnull(), yticklabels=False, cbar=False, cmap='cividis')"
      ],
      "execution_count": 11,
      "outputs": [
        {
          "output_type": "execute_result",
          "data": {
            "text/plain": [
              "<matplotlib.axes._subplots.AxesSubplot at 0x7fb988016110>"
            ]
          },
          "metadata": {
            "tags": []
          },
          "execution_count": 11
        },
        {
          "output_type": "display_data",
          "data": {
            "image/png": "[encoded data removed]",
            "text/plain": [
              "<Figure size 720x576 with 1 Axes>"
            ]
          },
          "metadata": {
            "tags": [],
            "needs_background": "light"
          }
        }
      ]
    },
    {
      "cell_type": "code",
      "metadata": {
        "colab": {
          "base_uri": "https://localhost:8080/"
        },
        "id": "pXJpflN54yYl",
        "outputId": "efd52e4b-33d7-4eb2-a190-827dcbfee079"
      },
      "source": [
        "housing_df.ocean_proximity.value_counts()"
      ],
      "execution_count": 12,
      "outputs": [
        {
          "output_type": "execute_result",
          "data": {
            "text/plain": [
              "<1H OCEAN     9136\n",
              "INLAND        6551\n",
              "NEAR OCEAN    2658\n",
              "NEAR BAY      2290\n",
              "ISLAND           5\n",
              "Name: ocean_proximity, dtype: int64"
            ]
          },
          "metadata": {
            "tags": []
          },
          "execution_count": 12
        }
      ]
    },
    {
      "cell_type": "markdown",
      "metadata": {
        "id": "beS_C_CA5CR6"
      },
      "source": [
        "#Creating bins for median income\n",
        "\n",
        "Suppose you chatted with experts who told you that the median income is a very important attribute to predict median housing prices. \n",
        "\n",
        "You may want to ensure that the test set is representative of the various categories of incomes in the whole dataset"
      ]
    },
    {
      "cell_type": "code",
      "metadata": {
        "colab": {
          "base_uri": "https://localhost:8080/",
          "height": 297
        },
        "id": "mhaCPJJd51Ko",
        "outputId": "d600fdb9-a381-46a6-a26c-8582b8b208ca"
      },
      "source": [
        "sns.histplot(housing_df.median_income)"
      ],
      "execution_count": 13,
      "outputs": [
        {
          "output_type": "execute_result",
          "data": {
            "text/plain": [
              "<matplotlib.axes._subplots.AxesSubplot at 0x7fb98818d3d0>"
            ]
          },
          "metadata": {
            "tags": []
          },
          "execution_count": 13
        },
        {
          "output_type": "display_data",
          "data": {
            "image/png": "[encoded data removed]",
            "text/plain": [
              "<Figure size 432x288 with 1 Axes>"
            ]
          },
          "metadata": {
            "tags": [],
            "needs_background": "light"
          }
        }
      ]
    },
    {
      "cell_type": "code",
      "metadata": {
        "id": "y51bZSa75xbR"
      },
      "source": [
        "#creating 5 categories \n",
        "bins=[0., 1.5, 3.0, 4.5, 6., np.inf]\n",
        "labels=[1, 2, 3, 4, 5]\n",
        "housing_df[\"income_cat\"] = pd.cut(housing_df[\"median_income\"], bins=bins, labels=labels)"
      ],
      "execution_count": 14,
      "outputs": []
    },
    {
      "cell_type": "code",
      "metadata": {
        "colab": {
          "base_uri": "https://localhost:8080/",
          "height": 282
        },
        "id": "m7_4SPal6udZ",
        "outputId": "6add37b1-75c5-4571-f2c9-85974e2afc80"
      },
      "source": [
        "housing_df[\"income_cat\"].hist()"
      ],
      "execution_count": 15,
      "outputs": [
        {
          "output_type": "execute_result",
          "data": {
            "text/plain": [
              "<matplotlib.axes._subplots.AxesSubplot at 0x7fb9881fd6d0>"
            ]
          },
          "metadata": {
            "tags": []
          },
          "execution_count": 15
        },
        {
          "output_type": "display_data",
          "data": {
            "image/png": "[encoded data removed]",
            "text/plain": [
              "<Figure size 432x288 with 1 Axes>"
            ]
          },
          "metadata": {
            "tags": [],
            "needs_background": "light"
          }
        }
      ]
    },
    {
      "cell_type": "markdown",
      "metadata": {
        "id": "dOmYsBGN6v3a"
      },
      "source": [
        "# stratified train test split, based on median income bins\n",
        "\n",
        "\n",
        "\n",
        "* housing_train\n",
        "* housing_test\n",
        "\n"
      ]
    },
    {
      "cell_type": "code",
      "metadata": {
        "id": "XapUPTn765cx"
      },
      "source": [
        "from sklearn.model_selection import StratifiedShuffleSplit\n",
        "stratified_split = StratifiedShuffleSplit(n_splits=1, test_size = 0.2, random_state=42)\n",
        "\n",
        "for train_index, test_index in stratified_split.split(housing_df, housing_df[\"income_cat\"]):\n",
        "  housing_train = housing_df.loc[train_index]\n",
        "  housing_test = housing_df.loc[test_index]"
      ],
      "execution_count": 16,
      "outputs": []
    },
    {
      "cell_type": "code",
      "metadata": {
        "colab": {
          "base_uri": "https://localhost:8080/"
        },
        "id": "JsSbb8tA68nb",
        "outputId": "ef3204e6-fb15-4209-a6b9-dfc6a4f97bf2"
      },
      "source": [
        "housing_train.shape"
      ],
      "execution_count": 17,
      "outputs": [
        {
          "output_type": "execute_result",
          "data": {
            "text/plain": [
              "(16512, 11)"
            ]
          },
          "metadata": {
            "tags": []
          },
          "execution_count": 17
        }
      ]
    },
    {
      "cell_type": "code",
      "metadata": {
        "colab": {
          "base_uri": "https://localhost:8080/"
        },
        "id": "OYEZn_E59AKr",
        "outputId": "f81c8b54-7262-4ecd-c2cc-371fbb2ab573"
      },
      "source": [
        "housing_test.shape"
      ],
      "execution_count": 18,
      "outputs": [
        {
          "output_type": "execute_result",
          "data": {
            "text/plain": [
              "(4128, 11)"
            ]
          },
          "metadata": {
            "tags": []
          },
          "execution_count": 18
        }
      ]
    },
    {
      "cell_type": "code",
      "metadata": {
        "colab": {
          "base_uri": "https://localhost:8080/"
        },
        "id": "Hbnnyg8W9Cb8",
        "outputId": "422a48b0-0114-4013-960b-abb0661236fb"
      },
      "source": [
        "housing_train['income_cat'].value_counts() / len(housing_train)"
      ],
      "execution_count": 19,
      "outputs": [
        {
          "output_type": "execute_result",
          "data": {
            "text/plain": [
              "3    0.350594\n",
              "2    0.318859\n",
              "4    0.176296\n",
              "5    0.114402\n",
              "1    0.039850\n",
              "Name: income_cat, dtype: float64"
            ]
          },
          "metadata": {
            "tags": []
          },
          "execution_count": 19
        }
      ]
    },
    {
      "cell_type": "code",
      "metadata": {
        "colab": {
          "base_uri": "https://localhost:8080/"
        },
        "id": "G0_cNXNe9Ibn",
        "outputId": "2dae4c21-8a8a-498f-f657-a27d77684c24"
      },
      "source": [
        "housing_test['income_cat'].value_counts() / len(housing_test)"
      ],
      "execution_count": 20,
      "outputs": [
        {
          "output_type": "execute_result",
          "data": {
            "text/plain": [
              "3    0.350533\n",
              "2    0.318798\n",
              "4    0.176357\n",
              "5    0.114583\n",
              "1    0.039729\n",
              "Name: income_cat, dtype: float64"
            ]
          },
          "metadata": {
            "tags": []
          },
          "execution_count": 20
        }
      ]
    },
    {
      "cell_type": "markdown",
      "metadata": {
        "id": "3aRAT8dY9OMW"
      },
      "source": [
        "we can now see that both housing train and housing test have almost same distributions of median income bins. "
      ]
    },
    {
      "cell_type": "code",
      "metadata": {
        "id": "KXhHEaVB9LkP"
      },
      "source": [
        "#drop income cat bins columns, as we do not need them anymore\n",
        "\n",
        "housing_train.drop('income_cat', axis=1, inplace=True)\n",
        "housing_test.drop('income_cat', axis=1, inplace=True)"
      ],
      "execution_count": 21,
      "outputs": []
    },
    {
      "cell_type": "code",
      "metadata": {
        "colab": {
          "base_uri": "https://localhost:8080/",
          "height": 224
        },
        "id": "9Yjp4zUj9dtV",
        "outputId": "12ab594b-0ca0-4b37-a95c-9bfecdd9a894"
      },
      "source": [
        "housing_train.head()"
      ],
      "execution_count": 22,
      "outputs": [
        {
          "output_type": "execute_result",
          "data": {
            "text/html": [
              "<div>\n",
              "<style scoped>\n",
              "    .dataframe tbody tr th:only-of-type {\n",
              "        vertical-align: middle;\n",
              "    }\n",
              "\n",
              "    .dataframe tbody tr th {\n",
              "        vertical-align: top;\n",
              "    }\n",
              "\n",
              "    .dataframe thead th {\n",
              "        text-align: right;\n",
              "    }\n",
              "</style>\n",
              "<table border=\"1\" class=\"dataframe\">\n",
              "  <thead>\n",
              "    <tr style=\"text-align: right;\">\n",
              "      <th></th>\n",
              "      <th>longitude</th>\n",
              "      <th>latitude</th>\n",
              "      <th>housing_median_age</th>\n",
              "      <th>total_rooms</th>\n",
              "      <th>total_bedrooms</th>\n",
              "      <th>population</th>\n",
              "      <th>households</th>\n",
              "      <th>median_income</th>\n",
              "      <th>median_house_value</th>\n",
              "      <th>ocean_proximity</th>\n",
              "    </tr>\n",
              "  </thead>\n",
              "  <tbody>\n",
              "    <tr>\n",
              "      <th>17606</th>\n",
              "      <td>-121.89</td>\n",
              "      <td>37.29</td>\n",
              "      <td>38.0</td>\n",
              "      <td>1568.0</td>\n",
              "      <td>351.0</td>\n",
              "      <td>710.0</td>\n",
              "      <td>339.0</td>\n",
              "      <td>2.7042</td>\n",
              "      <td>286600.0</td>\n",
              "      <td>&lt;1H OCEAN</td>\n",
              "    </tr>\n",
              "    <tr>\n",
              "      <th>18632</th>\n",
              "      <td>-121.93</td>\n",
              "      <td>37.05</td>\n",
              "      <td>14.0</td>\n",
              "      <td>679.0</td>\n",
              "      <td>108.0</td>\n",
              "      <td>306.0</td>\n",
              "      <td>113.0</td>\n",
              "      <td>6.4214</td>\n",
              "      <td>340600.0</td>\n",
              "      <td>&lt;1H OCEAN</td>\n",
              "    </tr>\n",
              "    <tr>\n",
              "      <th>14650</th>\n",
              "      <td>-117.20</td>\n",
              "      <td>32.77</td>\n",
              "      <td>31.0</td>\n",
              "      <td>1952.0</td>\n",
              "      <td>471.0</td>\n",
              "      <td>936.0</td>\n",
              "      <td>462.0</td>\n",
              "      <td>2.8621</td>\n",
              "      <td>196900.0</td>\n",
              "      <td>NEAR OCEAN</td>\n",
              "    </tr>\n",
              "    <tr>\n",
              "      <th>3230</th>\n",
              "      <td>-119.61</td>\n",
              "      <td>36.31</td>\n",
              "      <td>25.0</td>\n",
              "      <td>1847.0</td>\n",
              "      <td>371.0</td>\n",
              "      <td>1460.0</td>\n",
              "      <td>353.0</td>\n",
              "      <td>1.8839</td>\n",
              "      <td>46300.0</td>\n",
              "      <td>INLAND</td>\n",
              "    </tr>\n",
              "    <tr>\n",
              "      <th>3555</th>\n",
              "      <td>-118.59</td>\n",
              "      <td>34.23</td>\n",
              "      <td>17.0</td>\n",
              "      <td>6592.0</td>\n",
              "      <td>1525.0</td>\n",
              "      <td>4459.0</td>\n",
              "      <td>1463.0</td>\n",
              "      <td>3.0347</td>\n",
              "      <td>254500.0</td>\n",
              "      <td>&lt;1H OCEAN</td>\n",
              "    </tr>\n",
              "  </tbody>\n",
              "</table>\n",
              "</div>"
            ],
            "text/plain": [
              "       longitude  latitude  ...  median_house_value  ocean_proximity\n",
              "17606    -121.89     37.29  ...            286600.0        <1H OCEAN\n",
              "18632    -121.93     37.05  ...            340600.0        <1H OCEAN\n",
              "14650    -117.20     32.77  ...            196900.0       NEAR OCEAN\n",
              "3230     -119.61     36.31  ...             46300.0           INLAND\n",
              "3555     -118.59     34.23  ...            254500.0        <1H OCEAN\n",
              "\n",
              "[5 rows x 10 columns]"
            ]
          },
          "metadata": {
            "tags": []
          },
          "execution_count": 22
        }
      ]
    },
    {
      "cell_type": "code",
      "metadata": {
        "colab": {
          "base_uri": "https://localhost:8080/"
        },
        "id": "fIkyksw09jKF",
        "outputId": "14fc146d-1469-4eec-defa-548054251405"
      },
      "source": [
        "housing_train.info()"
      ],
      "execution_count": 23,
      "outputs": [
        {
          "output_type": "stream",
          "text": [
            "<class 'pandas.core.frame.DataFrame'>\n",
            "Int64Index: 16512 entries, 17606 to 15775\n",
            "Data columns (total 10 columns):\n",
            " #   Column              Non-Null Count  Dtype  \n",
            "---  ------              --------------  -----  \n",
            " 0   longitude           16512 non-null  float64\n",
            " 1   latitude            16512 non-null  float64\n",
            " 2   housing_median_age  16512 non-null  float64\n",
            " 3   total_rooms         16512 non-null  float64\n",
            " 4   total_bedrooms      16354 non-null  float64\n",
            " 5   population          16512 non-null  float64\n",
            " 6   households          16512 non-null  float64\n",
            " 7   median_income       16512 non-null  float64\n",
            " 8   median_house_value  16512 non-null  float64\n",
            " 9   ocean_proximity     16512 non-null  object \n",
            "dtypes: float64(9), object(1)\n",
            "memory usage: 1.4+ MB\n"
          ],
          "name": "stdout"
        }
      ]
    },
    {
      "cell_type": "markdown",
      "metadata": {
        "id": "N8eDES5V9nq7"
      },
      "source": [
        "**things to do:**\n",
        "\n",
        "prepapre data\n",
        "\n",
        "create new features\n",
        "\n",
        "impute total bedrooms\n",
        "\n",
        "encode ocean proximity\n",
        "\n",
        "scale"
      ]
    },
    {
      "cell_type": "markdown",
      "metadata": {
        "id": "pMkNfDAk5UT7"
      },
      "source": [
        "#prepare data"
      ]
    },
    {
      "cell_type": "code",
      "metadata": {
        "colab": {
          "base_uri": "https://localhost:8080/",
          "height": 439
        },
        "id": "fo2Hkj7h5acr",
        "outputId": "b6c6ed8d-052e-49d1-ee32-267c3ffde047"
      },
      "source": [
        "housing_train"
      ],
      "execution_count": 24,
      "outputs": [
        {
          "output_type": "execute_result",
          "data": {
            "text/html": [
              "<div>\n",
              "<style scoped>\n",
              "    .dataframe tbody tr th:only-of-type {\n",
              "        vertical-align: middle;\n",
              "    }\n",
              "\n",
              "    .dataframe tbody tr th {\n",
              "        vertical-align: top;\n",
              "    }\n",
              "\n",
              "    .dataframe thead th {\n",
              "        text-align: right;\n",
              "    }\n",
              "</style>\n",
              "<table border=\"1\" class=\"dataframe\">\n",
              "  <thead>\n",
              "    <tr style=\"text-align: right;\">\n",
              "      <th></th>\n",
              "      <th>longitude</th>\n",
              "      <th>latitude</th>\n",
              "      <th>housing_median_age</th>\n",
              "      <th>total_rooms</th>\n",
              "      <th>total_bedrooms</th>\n",
              "      <th>population</th>\n",
              "      <th>households</th>\n",
              "      <th>median_income</th>\n",
              "      <th>median_house_value</th>\n",
              "      <th>ocean_proximity</th>\n",
              "    </tr>\n",
              "  </thead>\n",
              "  <tbody>\n",
              "    <tr>\n",
              "      <th>17606</th>\n",
              "      <td>-121.89</td>\n",
              "      <td>37.29</td>\n",
              "      <td>38.0</td>\n",
              "      <td>1568.0</td>\n",
              "      <td>351.0</td>\n",
              "      <td>710.0</td>\n",
              "      <td>339.0</td>\n",
              "      <td>2.7042</td>\n",
              "      <td>286600.0</td>\n",
              "      <td>&lt;1H OCEAN</td>\n",
              "    </tr>\n",
              "    <tr>\n",
              "      <th>18632</th>\n",
              "      <td>-121.93</td>\n",
              "      <td>37.05</td>\n",
              "      <td>14.0</td>\n",
              "      <td>679.0</td>\n",
              "      <td>108.0</td>\n",
              "      <td>306.0</td>\n",
              "      <td>113.0</td>\n",
              "      <td>6.4214</td>\n",
              "      <td>340600.0</td>\n",
              "      <td>&lt;1H OCEAN</td>\n",
              "    </tr>\n",
              "    <tr>\n",
              "      <th>14650</th>\n",
              "      <td>-117.20</td>\n",
              "      <td>32.77</td>\n",
              "      <td>31.0</td>\n",
              "      <td>1952.0</td>\n",
              "      <td>471.0</td>\n",
              "      <td>936.0</td>\n",
              "      <td>462.0</td>\n",
              "      <td>2.8621</td>\n",
              "      <td>196900.0</td>\n",
              "      <td>NEAR OCEAN</td>\n",
              "    </tr>\n",
              "    <tr>\n",
              "      <th>3230</th>\n",
              "      <td>-119.61</td>\n",
              "      <td>36.31</td>\n",
              "      <td>25.0</td>\n",
              "      <td>1847.0</td>\n",
              "      <td>371.0</td>\n",
              "      <td>1460.0</td>\n",
              "      <td>353.0</td>\n",
              "      <td>1.8839</td>\n",
              "      <td>46300.0</td>\n",
              "      <td>INLAND</td>\n",
              "    </tr>\n",
              "    <tr>\n",
              "      <th>3555</th>\n",
              "      <td>-118.59</td>\n",
              "      <td>34.23</td>\n",
              "      <td>17.0</td>\n",
              "      <td>6592.0</td>\n",
              "      <td>1525.0</td>\n",
              "      <td>4459.0</td>\n",
              "      <td>1463.0</td>\n",
              "      <td>3.0347</td>\n",
              "      <td>254500.0</td>\n",
              "      <td>&lt;1H OCEAN</td>\n",
              "    </tr>\n",
              "    <tr>\n",
              "      <th>...</th>\n",
              "      <td>...</td>\n",
              "      <td>...</td>\n",
              "      <td>...</td>\n",
              "      <td>...</td>\n",
              "      <td>...</td>\n",
              "      <td>...</td>\n",
              "      <td>...</td>\n",
              "      <td>...</td>\n",
              "      <td>...</td>\n",
              "      <td>...</td>\n",
              "    </tr>\n",
              "    <tr>\n",
              "      <th>6563</th>\n",
              "      <td>-118.13</td>\n",
              "      <td>34.20</td>\n",
              "      <td>46.0</td>\n",
              "      <td>1271.0</td>\n",
              "      <td>236.0</td>\n",
              "      <td>573.0</td>\n",
              "      <td>210.0</td>\n",
              "      <td>4.9312</td>\n",
              "      <td>240200.0</td>\n",
              "      <td>INLAND</td>\n",
              "    </tr>\n",
              "    <tr>\n",
              "      <th>12053</th>\n",
              "      <td>-117.56</td>\n",
              "      <td>33.88</td>\n",
              "      <td>40.0</td>\n",
              "      <td>1196.0</td>\n",
              "      <td>294.0</td>\n",
              "      <td>1052.0</td>\n",
              "      <td>258.0</td>\n",
              "      <td>2.0682</td>\n",
              "      <td>113000.0</td>\n",
              "      <td>INLAND</td>\n",
              "    </tr>\n",
              "    <tr>\n",
              "      <th>13908</th>\n",
              "      <td>-116.40</td>\n",
              "      <td>34.09</td>\n",
              "      <td>9.0</td>\n",
              "      <td>4855.0</td>\n",
              "      <td>872.0</td>\n",
              "      <td>2098.0</td>\n",
              "      <td>765.0</td>\n",
              "      <td>3.2723</td>\n",
              "      <td>97800.0</td>\n",
              "      <td>INLAND</td>\n",
              "    </tr>\n",
              "    <tr>\n",
              "      <th>11159</th>\n",
              "      <td>-118.01</td>\n",
              "      <td>33.82</td>\n",
              "      <td>31.0</td>\n",
              "      <td>1960.0</td>\n",
              "      <td>380.0</td>\n",
              "      <td>1356.0</td>\n",
              "      <td>356.0</td>\n",
              "      <td>4.0625</td>\n",
              "      <td>225900.0</td>\n",
              "      <td>&lt;1H OCEAN</td>\n",
              "    </tr>\n",
              "    <tr>\n",
              "      <th>15775</th>\n",
              "      <td>-122.45</td>\n",
              "      <td>37.77</td>\n",
              "      <td>52.0</td>\n",
              "      <td>3095.0</td>\n",
              "      <td>682.0</td>\n",
              "      <td>1269.0</td>\n",
              "      <td>639.0</td>\n",
              "      <td>3.5750</td>\n",
              "      <td>500001.0</td>\n",
              "      <td>NEAR BAY</td>\n",
              "    </tr>\n",
              "  </tbody>\n",
              "</table>\n",
              "<p>16512 rows × 10 columns</p>\n",
              "</div>"
            ],
            "text/plain": [
              "       longitude  latitude  ...  median_house_value  ocean_proximity\n",
              "17606    -121.89     37.29  ...            286600.0        <1H OCEAN\n",
              "18632    -121.93     37.05  ...            340600.0        <1H OCEAN\n",
              "14650    -117.20     32.77  ...            196900.0       NEAR OCEAN\n",
              "3230     -119.61     36.31  ...             46300.0           INLAND\n",
              "3555     -118.59     34.23  ...            254500.0        <1H OCEAN\n",
              "...          ...       ...  ...                 ...              ...\n",
              "6563     -118.13     34.20  ...            240200.0           INLAND\n",
              "12053    -117.56     33.88  ...            113000.0           INLAND\n",
              "13908    -116.40     34.09  ...             97800.0           INLAND\n",
              "11159    -118.01     33.82  ...            225900.0        <1H OCEAN\n",
              "15775    -122.45     37.77  ...            500001.0         NEAR BAY\n",
              "\n",
              "[16512 rows x 10 columns]"
            ]
          },
          "metadata": {
            "tags": []
          },
          "execution_count": 24
        }
      ]
    },
    {
      "cell_type": "code",
      "metadata": {
        "id": "HvxLBzD05VZi"
      },
      "source": [
        "housing_train_target = housing_train.median_house_value\n",
        "\n",
        "housing_train = housing_train.drop(\"median_house_value\", axis=1)"
      ],
      "execution_count": 25,
      "outputs": []
    },
    {
      "cell_type": "markdown",
      "metadata": {
        "id": "g7jA98vA9lbN"
      },
      "source": [
        "#impute missing values, scaling, encoding"
      ]
    },
    {
      "cell_type": "code",
      "metadata": {
        "colab": {
          "base_uri": "https://localhost:8080/"
        },
        "id": "yco-sS009Haf",
        "outputId": "f8040141-5d20-42a2-b708-5a82259d3b95"
      },
      "source": [
        "#get all the num features\n",
        "\n",
        "numerics = ['int16','int32','int64','float16','float32','float64']\n",
        "numerical_cols = list(housing_train.select_dtypes(include=numerics).columns)\n",
        "housing_train_num = housing_train[numerical_cols]\n",
        "housing_train_num.shape"
      ],
      "execution_count": 26,
      "outputs": [
        {
          "output_type": "execute_result",
          "data": {
            "text/plain": [
              "(16512, 8)"
            ]
          },
          "metadata": {
            "tags": []
          },
          "execution_count": 26
        }
      ]
    },
    {
      "cell_type": "code",
      "metadata": {
        "id": "m-GyX96z-JNu"
      },
      "source": [
        "object_cols = [col for col in housing_train.columns if housing_train[col].dtype == \"object\"]"
      ],
      "execution_count": 27,
      "outputs": []
    },
    {
      "cell_type": "code",
      "metadata": {
        "colab": {
          "base_uri": "https://localhost:8080/"
        },
        "id": "qRTlgYUK-NlS",
        "outputId": "6cc751d0-bde8-496f-db8d-738b08c6a8d4"
      },
      "source": [
        "housing_train_cat = housing_train[object_cols]\n",
        "housing_train_cat.shape"
      ],
      "execution_count": 28,
      "outputs": [
        {
          "output_type": "execute_result",
          "data": {
            "text/plain": [
              "(16512, 1)"
            ]
          },
          "metadata": {
            "tags": []
          },
          "execution_count": 28
        }
      ]
    },
    {
      "cell_type": "code",
      "metadata": {
        "colab": {
          "base_uri": "https://localhost:8080/"
        },
        "id": "3Ej91aSq9T1B",
        "outputId": "22253d62-6dd2-495d-82cb-c67f6696cac2"
      },
      "source": [
        "housing_train_num.columns"
      ],
      "execution_count": 29,
      "outputs": [
        {
          "output_type": "execute_result",
          "data": {
            "text/plain": [
              "Index(['longitude', 'latitude', 'housing_median_age', 'total_rooms',\n",
              "       'total_bedrooms', 'population', 'households', 'median_income'],\n",
              "      dtype='object')"
            ]
          },
          "metadata": {
            "tags": []
          },
          "execution_count": 29
        }
      ]
    },
    {
      "cell_type": "code",
      "metadata": {
        "colab": {
          "base_uri": "https://localhost:8080/"
        },
        "id": "Tys4ToKQ-T_9",
        "outputId": "c605369d-82ff-47bf-e940-8c60555269e3"
      },
      "source": [
        "housing_train_cat.columns"
      ],
      "execution_count": 30,
      "outputs": [
        {
          "output_type": "execute_result",
          "data": {
            "text/plain": [
              "Index(['ocean_proximity'], dtype='object')"
            ]
          },
          "metadata": {
            "tags": []
          },
          "execution_count": 30
        }
      ]
    },
    {
      "cell_type": "code",
      "metadata": {
        "colab": {
          "base_uri": "https://localhost:8080/"
        },
        "id": "HXOM5CK2DmQy",
        "outputId": "39b14f94-8153-4859-a743-9b75f2c2ce5a"
      },
      "source": [
        "from sklearn.preprocessing import OneHotEncoder\n",
        "\n",
        "cat_encoder = OneHotEncoder(sparse=False)\n",
        "housing_cat_1hot = cat_encoder.fit_transform(housing_train[object_cols])\n",
        "housing_cat_1hot"
      ],
      "execution_count": 316,
      "outputs": [
        {
          "output_type": "execute_result",
          "data": {
            "text/plain": [
              "array([[1., 0., 0., 0., 0.],\n",
              "       [1., 0., 0., 0., 0.],\n",
              "       [0., 0., 0., 0., 1.],\n",
              "       ...,\n",
              "       [0., 1., 0., 0., 0.],\n",
              "       [1., 0., 0., 0., 0.],\n",
              "       [0., 0., 0., 1., 0.]])"
            ]
          },
          "metadata": {
            "tags": []
          },
          "execution_count": 316
        }
      ]
    },
    {
      "cell_type": "code",
      "metadata": {
        "colab": {
          "base_uri": "https://localhost:8080/"
        },
        "id": "2GSRzcGXDmOa",
        "outputId": "5a9554c9-a3af-4359-b73a-92d53a110bc6"
      },
      "source": [
        "cat_encoder.categories_"
      ],
      "execution_count": 317,
      "outputs": [
        {
          "output_type": "execute_result",
          "data": {
            "text/plain": [
              "[array(['<1H OCEAN', 'INLAND', 'ISLAND', 'NEAR BAY', 'NEAR OCEAN'],\n",
              "       dtype=object)]"
            ]
          },
          "metadata": {
            "tags": []
          },
          "execution_count": 317
        }
      ]
    },
    {
      "cell_type": "code",
      "metadata": {
        "colab": {
          "base_uri": "https://localhost:8080/"
        },
        "id": "cgiWrT7P9hCA",
        "outputId": "448a9656-b3f8-4e17-af3a-794efbf736d0"
      },
      "source": [
        "housing_train_num.info()"
      ],
      "execution_count": 31,
      "outputs": [
        {
          "output_type": "stream",
          "text": [
            "<class 'pandas.core.frame.DataFrame'>\n",
            "Int64Index: 16512 entries, 17606 to 15775\n",
            "Data columns (total 8 columns):\n",
            " #   Column              Non-Null Count  Dtype  \n",
            "---  ------              --------------  -----  \n",
            " 0   longitude           16512 non-null  float64\n",
            " 1   latitude            16512 non-null  float64\n",
            " 2   housing_median_age  16512 non-null  float64\n",
            " 3   total_rooms         16512 non-null  float64\n",
            " 4   total_bedrooms      16354 non-null  float64\n",
            " 5   population          16512 non-null  float64\n",
            " 6   households          16512 non-null  float64\n",
            " 7   median_income       16512 non-null  float64\n",
            "dtypes: float64(8)\n",
            "memory usage: 1.1 MB\n"
          ],
          "name": "stdout"
        }
      ]
    },
    {
      "cell_type": "code",
      "metadata": {
        "colab": {
          "base_uri": "https://localhost:8080/"
        },
        "id": "dpcrnVL64aSP",
        "outputId": "7b37233c-fd9c-4793-b1b9-7083d09da06f"
      },
      "source": [
        "housing_train['total_bedrooms'].isna().value_counts()"
      ],
      "execution_count": 32,
      "outputs": [
        {
          "output_type": "execute_result",
          "data": {
            "text/plain": [
              "False    16354\n",
              "True       158\n",
              "Name: total_bedrooms, dtype: int64"
            ]
          },
          "metadata": {
            "tags": []
          },
          "execution_count": 32
        }
      ]
    },
    {
      "cell_type": "code",
      "metadata": {
        "id": "GjkcMiMR4iNK"
      },
      "source": [
        "total_bedroom_median = housing_train['total_bedrooms'].median()"
      ],
      "execution_count": 33,
      "outputs": []
    },
    {
      "cell_type": "code",
      "metadata": {
        "id": "j-NooHNF7QXw"
      },
      "source": [
        "\"\"\"\n",
        "1. num features -> impute missing, \n",
        "\"\"\"\n",
        "\n",
        "from sklearn.impute import SimpleImputer\n",
        "from sklearn.pipeline import Pipeline\n",
        "from sklearn.preprocessing import StandardScaler\n",
        "from sklearn.compose import ColumnTransformer\n",
        "from sklearn.preprocessing import OneHotEncoder\n",
        "\n",
        "#pipeline for preprocessing num features\n",
        "num_pipeline = Pipeline(\n",
        "    [('imputer', SimpleImputer(strategy=\"median\")),\n",
        "     ('scaler', StandardScaler())\n",
        "    ]\n",
        ")\n",
        "\n",
        "# housing_train_num_a = num_pipeline.fit_transform(housing_train_num)\n",
        "\n",
        "# By default, the OneHotEncoder class returns a sparse array, \n",
        "# but we can convert it to a dense array if needed by calling the toarray() method OR set sparse=False\n",
        "cat_pipeline = Pipeline(\n",
        "    [('ohe', OneHotEncoder())]\n",
        ")\n",
        "\n",
        "num_cat_pipeline = ColumnTransformer(\n",
        "    [(\"num_pipe\", num_pipeline, numerical_cols),\n",
        "     (\"cat_pipe\", cat_pipeline, object_cols)]\n",
        ")\n",
        "\n",
        "housing_train_prepare = num_cat_pipeline.fit_transform(housing_train)"
      ],
      "execution_count": 299,
      "outputs": []
    },
    {
      "cell_type": "code",
      "metadata": {
        "colab": {
          "base_uri": "https://localhost:8080/"
        },
        "id": "WXWjQICnVT5-",
        "outputId": "bff4237d-59ae-4244-c424-7cf9afb18b18"
      },
      "source": [
        "housing_train_prepare.shape\n",
        "#(16512, 13)"
      ],
      "execution_count": 300,
      "outputs": [
        {
          "output_type": "execute_result",
          "data": {
            "text/plain": [
              "(16512, 13)"
            ]
          },
          "metadata": {
            "tags": []
          },
          "execution_count": 300
        }
      ]
    },
    {
      "cell_type": "code",
      "metadata": {
        "id": "8o-0JjCaVT1A"
      },
      "source": [
        "housing_train_prepare_df = pd.DataFrame(housing_train_prepare)"
      ],
      "execution_count": 72,
      "outputs": []
    },
    {
      "cell_type": "code",
      "metadata": {
        "colab": {
          "base_uri": "https://localhost:8080/",
          "height": 419
        },
        "id": "qWa0JvOwWtGC",
        "outputId": "db33fb12-9fff-464a-9225-4d70451fd778"
      },
      "source": [
        "housing_train_prepare_df"
      ],
      "execution_count": 73,
      "outputs": [
        {
          "output_type": "execute_result",
          "data": {
            "text/html": [
              "<div>\n",
              "<style scoped>\n",
              "    .dataframe tbody tr th:only-of-type {\n",
              "        vertical-align: middle;\n",
              "    }\n",
              "\n",
              "    .dataframe tbody tr th {\n",
              "        vertical-align: top;\n",
              "    }\n",
              "\n",
              "    .dataframe thead th {\n",
              "        text-align: right;\n",
              "    }\n",
              "</style>\n",
              "<table border=\"1\" class=\"dataframe\">\n",
              "  <thead>\n",
              "    <tr style=\"text-align: right;\">\n",
              "      <th></th>\n",
              "      <th>0</th>\n",
              "      <th>1</th>\n",
              "      <th>2</th>\n",
              "      <th>3</th>\n",
              "      <th>4</th>\n",
              "      <th>5</th>\n",
              "      <th>6</th>\n",
              "      <th>7</th>\n",
              "      <th>8</th>\n",
              "      <th>9</th>\n",
              "      <th>10</th>\n",
              "      <th>11</th>\n",
              "      <th>12</th>\n",
              "    </tr>\n",
              "  </thead>\n",
              "  <tbody>\n",
              "    <tr>\n",
              "      <th>0</th>\n",
              "      <td>-1.156043</td>\n",
              "      <td>0.771950</td>\n",
              "      <td>0.743331</td>\n",
              "      <td>-0.493234</td>\n",
              "      <td>-0.445438</td>\n",
              "      <td>-0.636211</td>\n",
              "      <td>-0.420698</td>\n",
              "      <td>-0.614937</td>\n",
              "      <td>1.0</td>\n",
              "      <td>0.0</td>\n",
              "      <td>0.0</td>\n",
              "      <td>0.0</td>\n",
              "      <td>0.0</td>\n",
              "    </tr>\n",
              "    <tr>\n",
              "      <th>1</th>\n",
              "      <td>-1.176025</td>\n",
              "      <td>0.659695</td>\n",
              "      <td>-1.165317</td>\n",
              "      <td>-0.908967</td>\n",
              "      <td>-1.036928</td>\n",
              "      <td>-0.998331</td>\n",
              "      <td>-1.022227</td>\n",
              "      <td>1.336459</td>\n",
              "      <td>1.0</td>\n",
              "      <td>0.0</td>\n",
              "      <td>0.0</td>\n",
              "      <td>0.0</td>\n",
              "      <td>0.0</td>\n",
              "    </tr>\n",
              "    <tr>\n",
              "      <th>2</th>\n",
              "      <td>1.186849</td>\n",
              "      <td>-1.342183</td>\n",
              "      <td>0.186642</td>\n",
              "      <td>-0.313660</td>\n",
              "      <td>-0.153345</td>\n",
              "      <td>-0.433639</td>\n",
              "      <td>-0.093318</td>\n",
              "      <td>-0.532046</td>\n",
              "      <td>0.0</td>\n",
              "      <td>0.0</td>\n",
              "      <td>0.0</td>\n",
              "      <td>0.0</td>\n",
              "      <td>1.0</td>\n",
              "    </tr>\n",
              "    <tr>\n",
              "      <th>3</th>\n",
              "      <td>-0.017068</td>\n",
              "      <td>0.313576</td>\n",
              "      <td>-0.290520</td>\n",
              "      <td>-0.362762</td>\n",
              "      <td>-0.396756</td>\n",
              "      <td>0.036041</td>\n",
              "      <td>-0.383436</td>\n",
              "      <td>-1.045566</td>\n",
              "      <td>0.0</td>\n",
              "      <td>1.0</td>\n",
              "      <td>0.0</td>\n",
              "      <td>0.0</td>\n",
              "      <td>0.0</td>\n",
              "    </tr>\n",
              "    <tr>\n",
              "      <th>4</th>\n",
              "      <td>0.492474</td>\n",
              "      <td>-0.659299</td>\n",
              "      <td>-0.926736</td>\n",
              "      <td>1.856193</td>\n",
              "      <td>2.412211</td>\n",
              "      <td>2.724154</td>\n",
              "      <td>2.570975</td>\n",
              "      <td>-0.441437</td>\n",
              "      <td>1.0</td>\n",
              "      <td>0.0</td>\n",
              "      <td>0.0</td>\n",
              "      <td>0.0</td>\n",
              "      <td>0.0</td>\n",
              "    </tr>\n",
              "    <tr>\n",
              "      <th>...</th>\n",
              "      <td>...</td>\n",
              "      <td>...</td>\n",
              "      <td>...</td>\n",
              "      <td>...</td>\n",
              "      <td>...</td>\n",
              "      <td>...</td>\n",
              "      <td>...</td>\n",
              "      <td>...</td>\n",
              "      <td>...</td>\n",
              "      <td>...</td>\n",
              "      <td>...</td>\n",
              "      <td>...</td>\n",
              "      <td>...</td>\n",
              "    </tr>\n",
              "    <tr>\n",
              "      <th>16507</th>\n",
              "      <td>0.722267</td>\n",
              "      <td>-0.673331</td>\n",
              "      <td>1.379547</td>\n",
              "      <td>-0.632123</td>\n",
              "      <td>-0.725361</td>\n",
              "      <td>-0.759010</td>\n",
              "      <td>-0.764049</td>\n",
              "      <td>0.554158</td>\n",
              "      <td>0.0</td>\n",
              "      <td>1.0</td>\n",
              "      <td>0.0</td>\n",
              "      <td>0.0</td>\n",
              "      <td>0.0</td>\n",
              "    </tr>\n",
              "    <tr>\n",
              "      <th>16508</th>\n",
              "      <td>1.007011</td>\n",
              "      <td>-0.823004</td>\n",
              "      <td>0.902385</td>\n",
              "      <td>-0.667196</td>\n",
              "      <td>-0.584183</td>\n",
              "      <td>-0.329664</td>\n",
              "      <td>-0.636291</td>\n",
              "      <td>-0.948815</td>\n",
              "      <td>0.0</td>\n",
              "      <td>1.0</td>\n",
              "      <td>0.0</td>\n",
              "      <td>0.0</td>\n",
              "      <td>0.0</td>\n",
              "    </tr>\n",
              "    <tr>\n",
              "      <th>16509</th>\n",
              "      <td>1.586489</td>\n",
              "      <td>-0.724781</td>\n",
              "      <td>-1.562952</td>\n",
              "      <td>1.043901</td>\n",
              "      <td>0.822735</td>\n",
              "      <td>0.607904</td>\n",
              "      <td>0.713156</td>\n",
              "      <td>-0.316705</td>\n",
              "      <td>0.0</td>\n",
              "      <td>1.0</td>\n",
              "      <td>0.0</td>\n",
              "      <td>0.0</td>\n",
              "      <td>0.0</td>\n",
              "    </tr>\n",
              "    <tr>\n",
              "      <th>16510</th>\n",
              "      <td>0.782213</td>\n",
              "      <td>-0.851068</td>\n",
              "      <td>0.186642</td>\n",
              "      <td>-0.309919</td>\n",
              "      <td>-0.374849</td>\n",
              "      <td>-0.057178</td>\n",
              "      <td>-0.375451</td>\n",
              "      <td>0.098121</td>\n",
              "      <td>1.0</td>\n",
              "      <td>0.0</td>\n",
              "      <td>0.0</td>\n",
              "      <td>0.0</td>\n",
              "      <td>0.0</td>\n",
              "    </tr>\n",
              "    <tr>\n",
              "      <th>16511</th>\n",
              "      <td>-1.435791</td>\n",
              "      <td>0.996459</td>\n",
              "      <td>1.856709</td>\n",
              "      <td>0.220853</td>\n",
              "      <td>0.360253</td>\n",
              "      <td>-0.135159</td>\n",
              "      <td>0.377791</td>\n",
              "      <td>-0.157799</td>\n",
              "      <td>0.0</td>\n",
              "      <td>0.0</td>\n",
              "      <td>0.0</td>\n",
              "      <td>1.0</td>\n",
              "      <td>0.0</td>\n",
              "    </tr>\n",
              "  </tbody>\n",
              "</table>\n",
              "<p>16512 rows × 13 columns</p>\n",
              "</div>"
            ],
            "text/plain": [
              "             0         1         2         3   ...   9    10   11   12\n",
              "0     -1.156043  0.771950  0.743331 -0.493234  ...  0.0  0.0  0.0  0.0\n",
              "1     -1.176025  0.659695 -1.165317 -0.908967  ...  0.0  0.0  0.0  0.0\n",
              "2      1.186849 -1.342183  0.186642 -0.313660  ...  0.0  0.0  0.0  1.0\n",
              "3     -0.017068  0.313576 -0.290520 -0.362762  ...  1.0  0.0  0.0  0.0\n",
              "4      0.492474 -0.659299 -0.926736  1.856193  ...  0.0  0.0  0.0  0.0\n",
              "...         ...       ...       ...       ...  ...  ...  ...  ...  ...\n",
              "16507  0.722267 -0.673331  1.379547 -0.632123  ...  1.0  0.0  0.0  0.0\n",
              "16508  1.007011 -0.823004  0.902385 -0.667196  ...  1.0  0.0  0.0  0.0\n",
              "16509  1.586489 -0.724781 -1.562952  1.043901  ...  1.0  0.0  0.0  0.0\n",
              "16510  0.782213 -0.851068  0.186642 -0.309919  ...  0.0  0.0  0.0  0.0\n",
              "16511 -1.435791  0.996459  1.856709  0.220853  ...  0.0  0.0  1.0  0.0\n",
              "\n",
              "[16512 rows x 13 columns]"
            ]
          },
          "metadata": {
            "tags": []
          },
          "execution_count": 73
        }
      ]
    },
    {
      "cell_type": "code",
      "metadata": {
        "id": "81gauV1IAUm6"
      },
      "source": [
        "cat_cols_name = num_cat_pipeline.transformers_[1][1].named_steps['ohe'].get_feature_names(object_cols)"
      ],
      "execution_count": 301,
      "outputs": []
    },
    {
      "cell_type": "code",
      "metadata": {
        "id": "-TtZzLhwh0nQ"
      },
      "source": [
        "cat_cols_name_list = cat_cols_name.tolist()\n",
        "\n",
        "housing_train_prepare_df.columns = [numerical_cols + cat_cols_name_list]"
      ],
      "execution_count": 77,
      "outputs": []
    },
    {
      "cell_type": "code",
      "metadata": {
        "colab": {
          "base_uri": "https://localhost:8080/",
          "height": 456
        },
        "id": "ACHDOqXxiAdJ",
        "outputId": "832b341a-ecc6-4587-fbce-042e33ba1a16"
      },
      "source": [
        "housing_train_prepare_df"
      ],
      "execution_count": 78,
      "outputs": [
        {
          "output_type": "execute_result",
          "data": {
            "text/html": [
              "<div>\n",
              "<style scoped>\n",
              "    .dataframe tbody tr th:only-of-type {\n",
              "        vertical-align: middle;\n",
              "    }\n",
              "\n",
              "    .dataframe tbody tr th {\n",
              "        vertical-align: top;\n",
              "    }\n",
              "\n",
              "    .dataframe thead tr th {\n",
              "        text-align: left;\n",
              "    }\n",
              "</style>\n",
              "<table border=\"1\" class=\"dataframe\">\n",
              "  <thead>\n",
              "    <tr>\n",
              "      <th></th>\n",
              "      <th>longitude</th>\n",
              "      <th>latitude</th>\n",
              "      <th>housing_median_age</th>\n",
              "      <th>total_rooms</th>\n",
              "      <th>total_bedrooms</th>\n",
              "      <th>population</th>\n",
              "      <th>households</th>\n",
              "      <th>median_income</th>\n",
              "      <th>ocean_proximity_&lt;1H OCEAN</th>\n",
              "      <th>ocean_proximity_INLAND</th>\n",
              "      <th>ocean_proximity_ISLAND</th>\n",
              "      <th>ocean_proximity_NEAR BAY</th>\n",
              "      <th>ocean_proximity_NEAR OCEAN</th>\n",
              "    </tr>\n",
              "  </thead>\n",
              "  <tbody>\n",
              "    <tr>\n",
              "      <th>0</th>\n",
              "      <td>-1.156043</td>\n",
              "      <td>0.771950</td>\n",
              "      <td>0.743331</td>\n",
              "      <td>-0.493234</td>\n",
              "      <td>-0.445438</td>\n",
              "      <td>-0.636211</td>\n",
              "      <td>-0.420698</td>\n",
              "      <td>-0.614937</td>\n",
              "      <td>1.0</td>\n",
              "      <td>0.0</td>\n",
              "      <td>0.0</td>\n",
              "      <td>0.0</td>\n",
              "      <td>0.0</td>\n",
              "    </tr>\n",
              "    <tr>\n",
              "      <th>1</th>\n",
              "      <td>-1.176025</td>\n",
              "      <td>0.659695</td>\n",
              "      <td>-1.165317</td>\n",
              "      <td>-0.908967</td>\n",
              "      <td>-1.036928</td>\n",
              "      <td>-0.998331</td>\n",
              "      <td>-1.022227</td>\n",
              "      <td>1.336459</td>\n",
              "      <td>1.0</td>\n",
              "      <td>0.0</td>\n",
              "      <td>0.0</td>\n",
              "      <td>0.0</td>\n",
              "      <td>0.0</td>\n",
              "    </tr>\n",
              "    <tr>\n",
              "      <th>2</th>\n",
              "      <td>1.186849</td>\n",
              "      <td>-1.342183</td>\n",
              "      <td>0.186642</td>\n",
              "      <td>-0.313660</td>\n",
              "      <td>-0.153345</td>\n",
              "      <td>-0.433639</td>\n",
              "      <td>-0.093318</td>\n",
              "      <td>-0.532046</td>\n",
              "      <td>0.0</td>\n",
              "      <td>0.0</td>\n",
              "      <td>0.0</td>\n",
              "      <td>0.0</td>\n",
              "      <td>1.0</td>\n",
              "    </tr>\n",
              "    <tr>\n",
              "      <th>3</th>\n",
              "      <td>-0.017068</td>\n",
              "      <td>0.313576</td>\n",
              "      <td>-0.290520</td>\n",
              "      <td>-0.362762</td>\n",
              "      <td>-0.396756</td>\n",
              "      <td>0.036041</td>\n",
              "      <td>-0.383436</td>\n",
              "      <td>-1.045566</td>\n",
              "      <td>0.0</td>\n",
              "      <td>1.0</td>\n",
              "      <td>0.0</td>\n",
              "      <td>0.0</td>\n",
              "      <td>0.0</td>\n",
              "    </tr>\n",
              "    <tr>\n",
              "      <th>4</th>\n",
              "      <td>0.492474</td>\n",
              "      <td>-0.659299</td>\n",
              "      <td>-0.926736</td>\n",
              "      <td>1.856193</td>\n",
              "      <td>2.412211</td>\n",
              "      <td>2.724154</td>\n",
              "      <td>2.570975</td>\n",
              "      <td>-0.441437</td>\n",
              "      <td>1.0</td>\n",
              "      <td>0.0</td>\n",
              "      <td>0.0</td>\n",
              "      <td>0.0</td>\n",
              "      <td>0.0</td>\n",
              "    </tr>\n",
              "    <tr>\n",
              "      <th>...</th>\n",
              "      <td>...</td>\n",
              "      <td>...</td>\n",
              "      <td>...</td>\n",
              "      <td>...</td>\n",
              "      <td>...</td>\n",
              "      <td>...</td>\n",
              "      <td>...</td>\n",
              "      <td>...</td>\n",
              "      <td>...</td>\n",
              "      <td>...</td>\n",
              "      <td>...</td>\n",
              "      <td>...</td>\n",
              "      <td>...</td>\n",
              "    </tr>\n",
              "    <tr>\n",
              "      <th>16507</th>\n",
              "      <td>0.722267</td>\n",
              "      <td>-0.673331</td>\n",
              "      <td>1.379547</td>\n",
              "      <td>-0.632123</td>\n",
              "      <td>-0.725361</td>\n",
              "      <td>-0.759010</td>\n",
              "      <td>-0.764049</td>\n",
              "      <td>0.554158</td>\n",
              "      <td>0.0</td>\n",
              "      <td>1.0</td>\n",
              "      <td>0.0</td>\n",
              "      <td>0.0</td>\n",
              "      <td>0.0</td>\n",
              "    </tr>\n",
              "    <tr>\n",
              "      <th>16508</th>\n",
              "      <td>1.007011</td>\n",
              "      <td>-0.823004</td>\n",
              "      <td>0.902385</td>\n",
              "      <td>-0.667196</td>\n",
              "      <td>-0.584183</td>\n",
              "      <td>-0.329664</td>\n",
              "      <td>-0.636291</td>\n",
              "      <td>-0.948815</td>\n",
              "      <td>0.0</td>\n",
              "      <td>1.0</td>\n",
              "      <td>0.0</td>\n",
              "      <td>0.0</td>\n",
              "      <td>0.0</td>\n",
              "    </tr>\n",
              "    <tr>\n",
              "      <th>16509</th>\n",
              "      <td>1.586489</td>\n",
              "      <td>-0.724781</td>\n",
              "      <td>-1.562952</td>\n",
              "      <td>1.043901</td>\n",
              "      <td>0.822735</td>\n",
              "      <td>0.607904</td>\n",
              "      <td>0.713156</td>\n",
              "      <td>-0.316705</td>\n",
              "      <td>0.0</td>\n",
              "      <td>1.0</td>\n",
              "      <td>0.0</td>\n",
              "      <td>0.0</td>\n",
              "      <td>0.0</td>\n",
              "    </tr>\n",
              "    <tr>\n",
              "      <th>16510</th>\n",
              "      <td>0.782213</td>\n",
              "      <td>-0.851068</td>\n",
              "      <td>0.186642</td>\n",
              "      <td>-0.309919</td>\n",
              "      <td>-0.374849</td>\n",
              "      <td>-0.057178</td>\n",
              "      <td>-0.375451</td>\n",
              "      <td>0.098121</td>\n",
              "      <td>1.0</td>\n",
              "      <td>0.0</td>\n",
              "      <td>0.0</td>\n",
              "      <td>0.0</td>\n",
              "      <td>0.0</td>\n",
              "    </tr>\n",
              "    <tr>\n",
              "      <th>16511</th>\n",
              "      <td>-1.435791</td>\n",
              "      <td>0.996459</td>\n",
              "      <td>1.856709</td>\n",
              "      <td>0.220853</td>\n",
              "      <td>0.360253</td>\n",
              "      <td>-0.135159</td>\n",
              "      <td>0.377791</td>\n",
              "      <td>-0.157799</td>\n",
              "      <td>0.0</td>\n",
              "      <td>0.0</td>\n",
              "      <td>0.0</td>\n",
              "      <td>1.0</td>\n",
              "      <td>0.0</td>\n",
              "    </tr>\n",
              "  </tbody>\n",
              "</table>\n",
              "<p>16512 rows × 13 columns</p>\n",
              "</div>"
            ],
            "text/plain": [
              "      longitude  latitude  ... ocean_proximity_NEAR BAY ocean_proximity_NEAR OCEAN\n",
              "0     -1.156043  0.771950  ...                      0.0                        0.0\n",
              "1     -1.176025  0.659695  ...                      0.0                        0.0\n",
              "2      1.186849 -1.342183  ...                      0.0                        1.0\n",
              "3     -0.017068  0.313576  ...                      0.0                        0.0\n",
              "4      0.492474 -0.659299  ...                      0.0                        0.0\n",
              "...         ...       ...  ...                      ...                        ...\n",
              "16507  0.722267 -0.673331  ...                      0.0                        0.0\n",
              "16508  1.007011 -0.823004  ...                      0.0                        0.0\n",
              "16509  1.586489 -0.724781  ...                      0.0                        0.0\n",
              "16510  0.782213 -0.851068  ...                      0.0                        0.0\n",
              "16511 -1.435791  0.996459  ...                      1.0                        0.0\n",
              "\n",
              "[16512 rows x 13 columns]"
            ]
          },
          "metadata": {
            "tags": []
          },
          "execution_count": 78
        }
      ]
    },
    {
      "cell_type": "markdown",
      "metadata": {
        "id": "zDexo_vBiSPr"
      },
      "source": [
        "#create custom transformers\n",
        "\n",
        "-to add extra attributes (bedrooms per room, rooms per household, population per household)"
      ]
    },
    {
      "cell_type": "code",
      "metadata": {
        "colab": {
          "base_uri": "https://localhost:8080/",
          "height": 439
        },
        "id": "pCa7-uFHprRA",
        "outputId": "182bb855-bf49-4653-c61c-179d09d169ce"
      },
      "source": [
        "housing_train"
      ],
      "execution_count": 102,
      "outputs": [
        {
          "output_type": "execute_result",
          "data": {
            "text/html": [
              "<div>\n",
              "<style scoped>\n",
              "    .dataframe tbody tr th:only-of-type {\n",
              "        vertical-align: middle;\n",
              "    }\n",
              "\n",
              "    .dataframe tbody tr th {\n",
              "        vertical-align: top;\n",
              "    }\n",
              "\n",
              "    .dataframe thead th {\n",
              "        text-align: right;\n",
              "    }\n",
              "</style>\n",
              "<table border=\"1\" class=\"dataframe\">\n",
              "  <thead>\n",
              "    <tr style=\"text-align: right;\">\n",
              "      <th></th>\n",
              "      <th>longitude</th>\n",
              "      <th>latitude</th>\n",
              "      <th>housing_median_age</th>\n",
              "      <th>total_rooms</th>\n",
              "      <th>total_bedrooms</th>\n",
              "      <th>population</th>\n",
              "      <th>households</th>\n",
              "      <th>median_income</th>\n",
              "      <th>ocean_proximity</th>\n",
              "    </tr>\n",
              "  </thead>\n",
              "  <tbody>\n",
              "    <tr>\n",
              "      <th>17606</th>\n",
              "      <td>-121.89</td>\n",
              "      <td>37.29</td>\n",
              "      <td>38.0</td>\n",
              "      <td>1568.0</td>\n",
              "      <td>351.0</td>\n",
              "      <td>710.0</td>\n",
              "      <td>339.0</td>\n",
              "      <td>2.7042</td>\n",
              "      <td>&lt;1H OCEAN</td>\n",
              "    </tr>\n",
              "    <tr>\n",
              "      <th>18632</th>\n",
              "      <td>-121.93</td>\n",
              "      <td>37.05</td>\n",
              "      <td>14.0</td>\n",
              "      <td>679.0</td>\n",
              "      <td>108.0</td>\n",
              "      <td>306.0</td>\n",
              "      <td>113.0</td>\n",
              "      <td>6.4214</td>\n",
              "      <td>&lt;1H OCEAN</td>\n",
              "    </tr>\n",
              "    <tr>\n",
              "      <th>14650</th>\n",
              "      <td>-117.20</td>\n",
              "      <td>32.77</td>\n",
              "      <td>31.0</td>\n",
              "      <td>1952.0</td>\n",
              "      <td>471.0</td>\n",
              "      <td>936.0</td>\n",
              "      <td>462.0</td>\n",
              "      <td>2.8621</td>\n",
              "      <td>NEAR OCEAN</td>\n",
              "    </tr>\n",
              "    <tr>\n",
              "      <th>3230</th>\n",
              "      <td>-119.61</td>\n",
              "      <td>36.31</td>\n",
              "      <td>25.0</td>\n",
              "      <td>1847.0</td>\n",
              "      <td>371.0</td>\n",
              "      <td>1460.0</td>\n",
              "      <td>353.0</td>\n",
              "      <td>1.8839</td>\n",
              "      <td>INLAND</td>\n",
              "    </tr>\n",
              "    <tr>\n",
              "      <th>3555</th>\n",
              "      <td>-118.59</td>\n",
              "      <td>34.23</td>\n",
              "      <td>17.0</td>\n",
              "      <td>6592.0</td>\n",
              "      <td>1525.0</td>\n",
              "      <td>4459.0</td>\n",
              "      <td>1463.0</td>\n",
              "      <td>3.0347</td>\n",
              "      <td>&lt;1H OCEAN</td>\n",
              "    </tr>\n",
              "    <tr>\n",
              "      <th>...</th>\n",
              "      <td>...</td>\n",
              "      <td>...</td>\n",
              "      <td>...</td>\n",
              "      <td>...</td>\n",
              "      <td>...</td>\n",
              "      <td>...</td>\n",
              "      <td>...</td>\n",
              "      <td>...</td>\n",
              "      <td>...</td>\n",
              "    </tr>\n",
              "    <tr>\n",
              "      <th>6563</th>\n",
              "      <td>-118.13</td>\n",
              "      <td>34.20</td>\n",
              "      <td>46.0</td>\n",
              "      <td>1271.0</td>\n",
              "      <td>236.0</td>\n",
              "      <td>573.0</td>\n",
              "      <td>210.0</td>\n",
              "      <td>4.9312</td>\n",
              "      <td>INLAND</td>\n",
              "    </tr>\n",
              "    <tr>\n",
              "      <th>12053</th>\n",
              "      <td>-117.56</td>\n",
              "      <td>33.88</td>\n",
              "      <td>40.0</td>\n",
              "      <td>1196.0</td>\n",
              "      <td>294.0</td>\n",
              "      <td>1052.0</td>\n",
              "      <td>258.0</td>\n",
              "      <td>2.0682</td>\n",
              "      <td>INLAND</td>\n",
              "    </tr>\n",
              "    <tr>\n",
              "      <th>13908</th>\n",
              "      <td>-116.40</td>\n",
              "      <td>34.09</td>\n",
              "      <td>9.0</td>\n",
              "      <td>4855.0</td>\n",
              "      <td>872.0</td>\n",
              "      <td>2098.0</td>\n",
              "      <td>765.0</td>\n",
              "      <td>3.2723</td>\n",
              "      <td>INLAND</td>\n",
              "    </tr>\n",
              "    <tr>\n",
              "      <th>11159</th>\n",
              "      <td>-118.01</td>\n",
              "      <td>33.82</td>\n",
              "      <td>31.0</td>\n",
              "      <td>1960.0</td>\n",
              "      <td>380.0</td>\n",
              "      <td>1356.0</td>\n",
              "      <td>356.0</td>\n",
              "      <td>4.0625</td>\n",
              "      <td>&lt;1H OCEAN</td>\n",
              "    </tr>\n",
              "    <tr>\n",
              "      <th>15775</th>\n",
              "      <td>-122.45</td>\n",
              "      <td>37.77</td>\n",
              "      <td>52.0</td>\n",
              "      <td>3095.0</td>\n",
              "      <td>682.0</td>\n",
              "      <td>1269.0</td>\n",
              "      <td>639.0</td>\n",
              "      <td>3.5750</td>\n",
              "      <td>NEAR BAY</td>\n",
              "    </tr>\n",
              "  </tbody>\n",
              "</table>\n",
              "<p>16512 rows × 9 columns</p>\n",
              "</div>"
            ],
            "text/plain": [
              "       longitude  latitude  ...  median_income  ocean_proximity\n",
              "17606    -121.89     37.29  ...         2.7042        <1H OCEAN\n",
              "18632    -121.93     37.05  ...         6.4214        <1H OCEAN\n",
              "14650    -117.20     32.77  ...         2.8621       NEAR OCEAN\n",
              "3230     -119.61     36.31  ...         1.8839           INLAND\n",
              "3555     -118.59     34.23  ...         3.0347        <1H OCEAN\n",
              "...          ...       ...  ...            ...              ...\n",
              "6563     -118.13     34.20  ...         4.9312           INLAND\n",
              "12053    -117.56     33.88  ...         2.0682           INLAND\n",
              "13908    -116.40     34.09  ...         3.2723           INLAND\n",
              "11159    -118.01     33.82  ...         4.0625        <1H OCEAN\n",
              "15775    -122.45     37.77  ...         3.5750         NEAR BAY\n",
              "\n",
              "[16512 rows x 9 columns]"
            ]
          },
          "metadata": {
            "tags": []
          },
          "execution_count": 102
        }
      ]
    },
    {
      "cell_type": "code",
      "metadata": {
        "id": "P8ueBuCBoORZ"
      },
      "source": [
        "rooms_ix, bedrooms_ix, population_ix, hh_ix = [housing_train.columns.get_loc(c) for c in cols_a]"
      ],
      "execution_count": 103,
      "outputs": []
    },
    {
      "cell_type": "code",
      "metadata": {
        "colab": {
          "base_uri": "https://localhost:8080/"
        },
        "id": "Bof1MmrnoCbI",
        "outputId": "e79fa295-8ef5-4537-c2cc-1608dbc20cf8"
      },
      "source": [
        "bedrooms_per_room = housing_train.values[:, bedrooms_ix] / housing_train.values[:, rooms_ix]\n",
        "bedrooms_per_room"
      ],
      "execution_count": 108,
      "outputs": [
        {
          "output_type": "execute_result",
          "data": {
            "text/plain": [
              "array([0.22385204081632654, 0.15905743740795286, 0.24129098360655737, ...,\n",
              "       0.1796086508753862, 0.19387755102040816, 0.22035541195476574],\n",
              "      dtype=object)"
            ]
          },
          "metadata": {
            "tags": []
          },
          "execution_count": 108
        }
      ]
    },
    {
      "cell_type": "code",
      "metadata": {
        "id": "U9nA4uPPm9Fd"
      },
      "source": [
        "from sklearn.base import BaseEstimator, TransformerMixin\n",
        "\n",
        "cols_a = ['total_rooms', 'total_bedrooms', 'population', 'households']\n",
        "rooms_ix, bedrooms_ix, population_ix, hh_ix = [housing_train.columns.get_loc(c) for c in cols_a]\n",
        "\n",
        "class CombinedAttributesAdder (BaseEstimator, TransformerMixin):\n",
        "  def __init__(self, add_features = 0):\n",
        "    self.add_features = add_features\n",
        "  \n",
        "  def fit(self, X, y=None):\n",
        "    return self\n",
        "  \n",
        "  def transform(self, X):\n",
        "    if self.add_features == 1:\n",
        "      bedrooms_per_room = X[:, bedrooms_ix] / X[:, rooms_ix]\n",
        "      return np.c_[X, bedrooms_per_room]\n",
        "    elif self.add_features == 2:\n",
        "      bedrooms_per_room = X[:, bedrooms_ix] / X[:, rooms_ix]\n",
        "      rooms_per_household = X[:, rooms_ix] / X[:, hh_ix]\n",
        "      return np.c_[X, bedrooms_per_room, rooms_per_household]\n",
        "    elif self.add_features == 3:\n",
        "      bedrooms_per_room = X[:, bedrooms_ix] / X[:, rooms_ix]\n",
        "      rooms_per_household = X[:, rooms_ix] / X[:, hh_ix]\n",
        "      population_per_household = X[:, population_ix] / X[:, hh_ix]\n",
        "      return np.c_[X, bedrooms_per_room, rooms_per_household, population_per_household]\n",
        "    else:\n",
        "      return X"
      ],
      "execution_count": 256,
      "outputs": []
    },
    {
      "cell_type": "code",
      "metadata": {
        "id": "NLanCV6iu9MJ"
      },
      "source": [
        "# attr_adder = CombinedAttributesAdder(add_features=0)\n",
        "# housing_extra_attr = attr_adder.transform(housing_train)\n",
        "# pd.DataFrame(housing_extra_attr)"
      ],
      "execution_count": null,
      "outputs": []
    },
    {
      "cell_type": "code",
      "metadata": {
        "id": "3we73nQ5vEQF"
      },
      "source": [
        "#pipeline for preprocessing num and cat features\n",
        "\n",
        "num_pipeline = Pipeline(\n",
        "    # [('imputer', SimpleImputer(strategy=\"median\")),\n",
        "     [('adder', CombinedAttributesAdder()),\n",
        "     ('scaler', StandardScaler())\n",
        "    ]\n",
        ")\n",
        "\n",
        "cat_pipeline = Pipeline(\n",
        "    [('ohe', OneHotEncoder())]\n",
        ")\n",
        "\n",
        "num_cat_pipeline = ColumnTransformer(\n",
        "    [(\"num_pipe\", num_pipeline, numerical_cols),\n",
        "     (\"cat_pipe\", cat_pipeline, object_cols)]\n",
        ")\n",
        "\n",
        "housing_train_prepare_a = num_cat_pipeline.fit_transform(housing_train)"
      ],
      "execution_count": 159,
      "outputs": []
    },
    {
      "cell_type": "markdown",
      "metadata": {
        "id": "qKkYq_ViwENJ"
      },
      "source": [
        "# full pipeline with prediction"
      ]
    },
    {
      "cell_type": "code",
      "metadata": {
        "id": "zUkbBKXszUge"
      },
      "source": [
        "#pipeline for preprocessing num features\n",
        "from sklearn.linear_model import LinearRegression\n",
        "from sklearn.ensemble import RandomForestRegressor\n",
        "\n",
        "num_pipeline = Pipeline(\n",
        "    [('imputer', SimpleImputer(strategy=\"median\")),\n",
        "     ('adder', CombinedAttributesAdder()),\n",
        "     ('scaler', StandardScaler())\n",
        "    ]\n",
        ")\n",
        "\n",
        "cat_pipeline = Pipeline(\n",
        "    [('ohe', OneHotEncoder())]\n",
        ")\n",
        "\n",
        "num_cat_pipeline = ColumnTransformer(\n",
        "    [(\"num_pipe\", num_pipeline, numerical_cols),\n",
        "     (\"cat_pipe\", cat_pipeline, object_cols)]\n",
        ")\n",
        "\n",
        "full_pipeline = Pipeline(\n",
        "    [(\"preparation\", num_cat_pipeline),\n",
        "    (\"linear\", LinearRegression())                                              \n",
        "])"
      ],
      "execution_count": 173,
      "outputs": []
    },
    {
      "cell_type": "code",
      "metadata": {
        "id": "rQyDKOCC0W1S"
      },
      "source": [
        "# full_pipeline.fit(housing_train, housing_train_target)"
      ],
      "execution_count": null,
      "outputs": []
    },
    {
      "cell_type": "code",
      "metadata": {
        "colab": {
          "base_uri": "https://localhost:8080/",
          "height": 439
        },
        "id": "h-9oYssK31EC",
        "outputId": "ed7abda8-594b-41f0-ac7c-9ca189d47696"
      },
      "source": [
        "housing_train"
      ],
      "execution_count": 177,
      "outputs": [
        {
          "output_type": "execute_result",
          "data": {
            "text/html": [
              "<div>\n",
              "<style scoped>\n",
              "    .dataframe tbody tr th:only-of-type {\n",
              "        vertical-align: middle;\n",
              "    }\n",
              "\n",
              "    .dataframe tbody tr th {\n",
              "        vertical-align: top;\n",
              "    }\n",
              "\n",
              "    .dataframe thead th {\n",
              "        text-align: right;\n",
              "    }\n",
              "</style>\n",
              "<table border=\"1\" class=\"dataframe\">\n",
              "  <thead>\n",
              "    <tr style=\"text-align: right;\">\n",
              "      <th></th>\n",
              "      <th>longitude</th>\n",
              "      <th>latitude</th>\n",
              "      <th>housing_median_age</th>\n",
              "      <th>total_rooms</th>\n",
              "      <th>total_bedrooms</th>\n",
              "      <th>population</th>\n",
              "      <th>households</th>\n",
              "      <th>median_income</th>\n",
              "      <th>ocean_proximity</th>\n",
              "    </tr>\n",
              "  </thead>\n",
              "  <tbody>\n",
              "    <tr>\n",
              "      <th>17606</th>\n",
              "      <td>-121.89</td>\n",
              "      <td>37.29</td>\n",
              "      <td>38.0</td>\n",
              "      <td>1568.0</td>\n",
              "      <td>351.0</td>\n",
              "      <td>710.0</td>\n",
              "      <td>339.0</td>\n",
              "      <td>2.7042</td>\n",
              "      <td>&lt;1H OCEAN</td>\n",
              "    </tr>\n",
              "    <tr>\n",
              "      <th>18632</th>\n",
              "      <td>-121.93</td>\n",
              "      <td>37.05</td>\n",
              "      <td>14.0</td>\n",
              "      <td>679.0</td>\n",
              "      <td>108.0</td>\n",
              "      <td>306.0</td>\n",
              "      <td>113.0</td>\n",
              "      <td>6.4214</td>\n",
              "      <td>&lt;1H OCEAN</td>\n",
              "    </tr>\n",
              "    <tr>\n",
              "      <th>14650</th>\n",
              "      <td>-117.20</td>\n",
              "      <td>32.77</td>\n",
              "      <td>31.0</td>\n",
              "      <td>1952.0</td>\n",
              "      <td>471.0</td>\n",
              "      <td>936.0</td>\n",
              "      <td>462.0</td>\n",
              "      <td>2.8621</td>\n",
              "      <td>NEAR OCEAN</td>\n",
              "    </tr>\n",
              "    <tr>\n",
              "      <th>3230</th>\n",
              "      <td>-119.61</td>\n",
              "      <td>36.31</td>\n",
              "      <td>25.0</td>\n",
              "      <td>1847.0</td>\n",
              "      <td>371.0</td>\n",
              "      <td>1460.0</td>\n",
              "      <td>353.0</td>\n",
              "      <td>1.8839</td>\n",
              "      <td>INLAND</td>\n",
              "    </tr>\n",
              "    <tr>\n",
              "      <th>3555</th>\n",
              "      <td>-118.59</td>\n",
              "      <td>34.23</td>\n",
              "      <td>17.0</td>\n",
              "      <td>6592.0</td>\n",
              "      <td>1525.0</td>\n",
              "      <td>4459.0</td>\n",
              "      <td>1463.0</td>\n",
              "      <td>3.0347</td>\n",
              "      <td>&lt;1H OCEAN</td>\n",
              "    </tr>\n",
              "    <tr>\n",
              "      <th>...</th>\n",
              "      <td>...</td>\n",
              "      <td>...</td>\n",
              "      <td>...</td>\n",
              "      <td>...</td>\n",
              "      <td>...</td>\n",
              "      <td>...</td>\n",
              "      <td>...</td>\n",
              "      <td>...</td>\n",
              "      <td>...</td>\n",
              "    </tr>\n",
              "    <tr>\n",
              "      <th>6563</th>\n",
              "      <td>-118.13</td>\n",
              "      <td>34.20</td>\n",
              "      <td>46.0</td>\n",
              "      <td>1271.0</td>\n",
              "      <td>236.0</td>\n",
              "      <td>573.0</td>\n",
              "      <td>210.0</td>\n",
              "      <td>4.9312</td>\n",
              "      <td>INLAND</td>\n",
              "    </tr>\n",
              "    <tr>\n",
              "      <th>12053</th>\n",
              "      <td>-117.56</td>\n",
              "      <td>33.88</td>\n",
              "      <td>40.0</td>\n",
              "      <td>1196.0</td>\n",
              "      <td>294.0</td>\n",
              "      <td>1052.0</td>\n",
              "      <td>258.0</td>\n",
              "      <td>2.0682</td>\n",
              "      <td>INLAND</td>\n",
              "    </tr>\n",
              "    <tr>\n",
              "      <th>13908</th>\n",
              "      <td>-116.40</td>\n",
              "      <td>34.09</td>\n",
              "      <td>9.0</td>\n",
              "      <td>4855.0</td>\n",
              "      <td>872.0</td>\n",
              "      <td>2098.0</td>\n",
              "      <td>765.0</td>\n",
              "      <td>3.2723</td>\n",
              "      <td>INLAND</td>\n",
              "    </tr>\n",
              "    <tr>\n",
              "      <th>11159</th>\n",
              "      <td>-118.01</td>\n",
              "      <td>33.82</td>\n",
              "      <td>31.0</td>\n",
              "      <td>1960.0</td>\n",
              "      <td>380.0</td>\n",
              "      <td>1356.0</td>\n",
              "      <td>356.0</td>\n",
              "      <td>4.0625</td>\n",
              "      <td>&lt;1H OCEAN</td>\n",
              "    </tr>\n",
              "    <tr>\n",
              "      <th>15775</th>\n",
              "      <td>-122.45</td>\n",
              "      <td>37.77</td>\n",
              "      <td>52.0</td>\n",
              "      <td>3095.0</td>\n",
              "      <td>682.0</td>\n",
              "      <td>1269.0</td>\n",
              "      <td>639.0</td>\n",
              "      <td>3.5750</td>\n",
              "      <td>NEAR BAY</td>\n",
              "    </tr>\n",
              "  </tbody>\n",
              "</table>\n",
              "<p>16512 rows × 9 columns</p>\n",
              "</div>"
            ],
            "text/plain": [
              "       longitude  latitude  ...  median_income  ocean_proximity\n",
              "17606    -121.89     37.29  ...         2.7042        <1H OCEAN\n",
              "18632    -121.93     37.05  ...         6.4214        <1H OCEAN\n",
              "14650    -117.20     32.77  ...         2.8621       NEAR OCEAN\n",
              "3230     -119.61     36.31  ...         1.8839           INLAND\n",
              "3555     -118.59     34.23  ...         3.0347        <1H OCEAN\n",
              "...          ...       ...  ...            ...              ...\n",
              "6563     -118.13     34.20  ...         4.9312           INLAND\n",
              "12053    -117.56     33.88  ...         2.0682           INLAND\n",
              "13908    -116.40     34.09  ...         3.2723           INLAND\n",
              "11159    -118.01     33.82  ...         4.0625        <1H OCEAN\n",
              "15775    -122.45     37.77  ...         3.5750         NEAR BAY\n",
              "\n",
              "[16512 rows x 9 columns]"
            ]
          },
          "metadata": {
            "tags": []
          },
          "execution_count": 177
        }
      ]
    },
    {
      "cell_type": "code",
      "metadata": {
        "id": "7wR7H23aOYUl"
      },
      "source": [
        ""
      ],
      "execution_count": null,
      "outputs": []
    },
    {
      "cell_type": "code",
      "metadata": {
        "colab": {
          "base_uri": "https://localhost:8080/"
        },
        "id": "AYMkZ-G91PJu",
        "outputId": "1413cded-3f2a-4beb-c1ea-2d73338ce8c4"
      },
      "source": [
        "from sklearn.model_selection import cross_val_score\n",
        "\n",
        "scores = cross_val_score(estimator=full_pipeline, X=housing_train, y=housing_train_target, scoring='neg_root_mean_squared_error', cv=5, n_jobs=-1, verbose=10)"
      ],
      "execution_count": 182,
      "outputs": [
        {
          "output_type": "stream",
          "text": [
            "[Parallel(n_jobs=-1)]: Using backend LokyBackend with 2 concurrent workers.\n",
            "[Parallel(n_jobs=-1)]: Done   1 tasks      | elapsed:   14.6s\n",
            "[Parallel(n_jobs=-1)]: Done   3 out of   5 | elapsed:   29.2s remaining:   19.5s\n",
            "[Parallel(n_jobs=-1)]: Done   5 out of   5 | elapsed:   39.2s remaining:    0.0s\n",
            "[Parallel(n_jobs=-1)]: Done   5 out of   5 | elapsed:   39.2s finished\n"
          ],
          "name": "stderr"
        }
      ]
    },
    {
      "cell_type": "code",
      "metadata": {
        "id": "VsXIdjAs4bzD"
      },
      "source": [
        "def display_scores(scores):\n",
        "  print(\"scores: \", scores)\n",
        "  print(\"mean: \", scores.mean())\n",
        "  print(\"std: \", scores.std())"
      ],
      "execution_count": 185,
      "outputs": []
    },
    {
      "cell_type": "code",
      "metadata": {
        "colab": {
          "base_uri": "https://localhost:8080/"
        },
        "id": "0IJIRc67385o",
        "outputId": "a0090745-621e-4f65-b0cc-7bf53d78d47c"
      },
      "source": [
        "display_scores(scores)"
      ],
      "execution_count": 186,
      "outputs": [
        {
          "output_type": "stream",
          "text": [
            "scores:  [-47668.63838023 -49878.13042756 -51577.26864632 -49784.61507078\n",
            " -50709.93041842]\n",
            "mean:  -49923.716588661366\n",
            "std:  1300.7053202005968\n"
          ],
          "name": "stdout"
        }
      ]
    },
    {
      "cell_type": "code",
      "metadata": {
        "id": "v9wYFGQs3FD4"
      },
      "source": [
        ""
      ],
      "execution_count": 180,
      "outputs": []
    },
    {
      "cell_type": "markdown",
      "metadata": {
        "id": "vWFmMzbR3tJ4"
      },
      "source": [
        "#randomsearch cv"
      ]
    },
    {
      "cell_type": "code",
      "metadata": {
        "id": "OenJWKFm4rpx"
      },
      "source": [
        "#pipeline for preprocessing num features\n",
        "from sklearn.linear_model import LinearRegression\n",
        "from sklearn.ensemble import RandomForestRegressor\n",
        "\n",
        "num_pipeline = Pipeline(\n",
        "    [('imputer', SimpleImputer()),\n",
        "     ('adder', CombinedAttributesAdder()),\n",
        "     ('scaler', StandardScaler())\n",
        "    ]\n",
        ")\n",
        "\n",
        "cat_pipeline = Pipeline(\n",
        "    [('ohe', OneHotEncoder())]\n",
        ")\n",
        "\n",
        "num_cat_pipeline = ColumnTransformer(\n",
        "    [(\"num_pipe\", num_pipeline, numerical_cols),\n",
        "     (\"cat_pipe\", cat_pipeline, object_cols)]\n",
        ")\n",
        "\n",
        "full_pipeline = Pipeline(\n",
        "    [(\"preparation\", num_cat_pipeline),\n",
        "    (\"rf_reg\", RandomForestRegressor())                                              \n",
        "])"
      ],
      "execution_count": 344,
      "outputs": []
    },
    {
      "cell_type": "code",
      "metadata": {
        "id": "pY1kazVM4ht2"
      },
      "source": [
        "from sklearn.model_selection import RandomizedSearchCV\n",
        "\n",
        "param_grid = [{\"preparation__num_pipe__imputer__strategy\" :['median', 'mean', 'most_frequent'],\n",
        "               \"preparation__num_pipe__adder__add_features\" :[1, 2, 3, 0],\n",
        "               \"rf_reg__n_estimators\": [30, 50],\n",
        "               \"rf_reg__max_features\":[2,6,10],\n",
        "               \"rf_reg__min_samples_leaf\":[1,2,4],\n",
        "               \"rf_reg__min_samples_split\":[2,5,10]}            \n",
        "]"
      ],
      "execution_count": 258,
      "outputs": []
    },
    {
      "cell_type": "code",
      "metadata": {
        "id": "K493W5fr49Hl"
      },
      "source": [
        "forest_rs = RandomizedSearchCV(estimator=full_pipeline, param_distributions=param_grid, n_iter=10, cv=5, verbose=10,n_jobs=-1,\n",
        "                               random_state=42, scoring='neg_root_mean_squared_error', return_train_score=True)"
      ],
      "execution_count": 264,
      "outputs": []
    },
    {
      "cell_type": "code",
      "metadata": {
        "colab": {
          "base_uri": "https://localhost:8080/"
        },
        "id": "JFtELxXo529P",
        "outputId": "19453e97-a138-4728-fdee-b066f40c3514"
      },
      "source": [
        "forest_rs.fit(housing_train, housing_train_target)"
      ],
      "execution_count": 265,
      "outputs": [
        {
          "output_type": "stream",
          "text": [
            "Fitting 5 folds for each of 10 candidates, totalling 50 fits\n"
          ],
          "name": "stdout"
        },
        {
          "output_type": "stream",
          "text": [
            "[Parallel(n_jobs=-1)]: Using backend LokyBackend with 2 concurrent workers.\n",
            "[Parallel(n_jobs=-1)]: Done   1 tasks      | elapsed:    5.1s\n",
            "[Parallel(n_jobs=-1)]: Done   4 tasks      | elapsed:   10.1s\n",
            "[Parallel(n_jobs=-1)]: Done   9 tasks      | elapsed:   15.1s\n",
            "[Parallel(n_jobs=-1)]: Done  14 tasks      | elapsed:   24.4s\n",
            "[Parallel(n_jobs=-1)]: Done  21 tasks      | elapsed:   42.3s\n",
            "[Parallel(n_jobs=-1)]: Done  28 tasks      | elapsed:   48.3s\n",
            "[Parallel(n_jobs=-1)]: Done  37 tasks      | elapsed:  1.1min\n",
            "[Parallel(n_jobs=-1)]: Done  46 tasks      | elapsed:  1.2min\n",
            "[Parallel(n_jobs=-1)]: Done  50 out of  50 | elapsed:  1.3min finished\n"
          ],
          "name": "stderr"
        },
        {
          "output_type": "execute_result",
          "data": {
            "text/plain": [
              "RandomizedSearchCV(cv=5, error_score=nan,\n",
              "                   estimator=Pipeline(memory=None,\n",
              "                                      steps=[('preparation',\n",
              "                                              ColumnTransformer(n_jobs=None,\n",
              "                                                                remainder='drop',\n",
              "                                                                sparse_threshold=0.3,\n",
              "                                                                transformer_weights=None,\n",
              "                                                                transformers=[('num_pipe',\n",
              "                                                                               Pipeline(memory=None,\n",
              "                                                                                        steps=[('imputer',\n",
              "                                                                                                SimpleImputer(add_indicator=False,\n",
              "                                                                                                              copy=True,\n",
              "                                                                                                              fill_value=None,\n",
              "                                                                                                              missing_values=nan,\n",
              "                                                                                                              strategy='mean',\n",
              "                                                                                                              verb...\n",
              "                   param_distributions=[{'preparation__num_pipe__adder__add_features': [1,\n",
              "                                                                                        2,\n",
              "                                                                                        3,\n",
              "                                                                                        0],\n",
              "                                         'preparation__num_pipe__imputer__strategy': ['median',\n",
              "                                                                                      'mean',\n",
              "                                                                                      'most_frequent'],\n",
              "                                         'rf_reg__max_features': [2, 6, 10],\n",
              "                                         'rf_reg__min_samples_leaf': [1, 2, 4],\n",
              "                                         'rf_reg__min_samples_split': [2, 5,\n",
              "                                                                       10],\n",
              "                                         'rf_reg__n_estimators': [30, 50]}],\n",
              "                   pre_dispatch='2*n_jobs', random_state=42, refit=True,\n",
              "                   return_train_score=True,\n",
              "                   scoring='neg_root_mean_squared_error', verbose=10)"
            ]
          },
          "metadata": {
            "tags": []
          },
          "execution_count": 265
        }
      ]
    },
    {
      "cell_type": "code",
      "metadata": {
        "colab": {
          "base_uri": "https://localhost:8080/"
        },
        "id": "Ds1xF0Ys6AoQ",
        "outputId": "c07e486b-4ca0-49ec-9468-41525ac6f7fb"
      },
      "source": [
        "forest_rs.best_params_"
      ],
      "execution_count": 275,
      "outputs": [
        {
          "output_type": "execute_result",
          "data": {
            "text/plain": [
              "{'preparation__num_pipe__adder__add_features': 3,\n",
              " 'preparation__num_pipe__imputer__strategy': 'mean',\n",
              " 'rf_reg__max_features': 10,\n",
              " 'rf_reg__min_samples_leaf': 4,\n",
              " 'rf_reg__min_samples_split': 5,\n",
              " 'rf_reg__n_estimators': 50}"
            ]
          },
          "metadata": {
            "tags": []
          },
          "execution_count": 275
        }
      ]
    },
    {
      "cell_type": "code",
      "metadata": {
        "colab": {
          "base_uri": "https://localhost:8080/"
        },
        "id": "zz_JdJrs6Fgf",
        "outputId": "c3fa024d-1619-4521-c339-27a2a7b8deb1"
      },
      "source": [
        "forest_rs.best_score_"
      ],
      "execution_count": 267,
      "outputs": [
        {
          "output_type": "execute_result",
          "data": {
            "text/plain": [
              "-50071.957870268496"
            ]
          },
          "metadata": {
            "tags": []
          },
          "execution_count": 267
        }
      ]
    },
    {
      "cell_type": "code",
      "metadata": {
        "colab": {
          "base_uri": "https://localhost:8080/"
        },
        "id": "tehCRLXI7ZMi",
        "outputId": "84deef0e-ad56-47fd-9a28-1e9ceb800166"
      },
      "source": [
        "cv_results = forest_rs.cv_results_\n",
        "# cv_results\n",
        "for mean_scores, params in zip(cv_results['mean_test_score'], cv_results['params']):\n",
        "  print(mean_scores, params)\n",
        "  print(\"\\n\")"
      ],
      "execution_count": 268,
      "outputs": [
        {
          "output_type": "stream",
          "text": [
            "-50120.194056553315 {'rf_reg__n_estimators': 50, 'rf_reg__min_samples_split': 10, 'rf_reg__min_samples_leaf': 1, 'rf_reg__max_features': 10, 'preparation__num_pipe__imputer__strategy': 'most_frequent', 'preparation__num_pipe__adder__add_features': 0}\n",
            "\n",
            "\n",
            "-55191.004970959235 {'rf_reg__n_estimators': 30, 'rf_reg__min_samples_split': 10, 'rf_reg__min_samples_leaf': 1, 'rf_reg__max_features': 2, 'preparation__num_pipe__imputer__strategy': 'mean', 'preparation__num_pipe__adder__add_features': 2}\n",
            "\n",
            "\n",
            "-50432.776772416306 {'rf_reg__n_estimators': 50, 'rf_reg__min_samples_split': 10, 'rf_reg__min_samples_leaf': 4, 'rf_reg__max_features': 10, 'preparation__num_pipe__imputer__strategy': 'mean', 'preparation__num_pipe__adder__add_features': 0}\n",
            "\n",
            "\n",
            "-50071.957870268496 {'rf_reg__n_estimators': 50, 'rf_reg__min_samples_split': 5, 'rf_reg__min_samples_leaf': 4, 'rf_reg__max_features': 10, 'preparation__num_pipe__imputer__strategy': 'mean', 'preparation__num_pipe__adder__add_features': 3}\n",
            "\n",
            "\n",
            "-50981.87570823652 {'rf_reg__n_estimators': 30, 'rf_reg__min_samples_split': 2, 'rf_reg__min_samples_leaf': 1, 'rf_reg__max_features': 6, 'preparation__num_pipe__imputer__strategy': 'mean', 'preparation__num_pipe__adder__add_features': 1}\n",
            "\n",
            "\n",
            "-54343.54694164754 {'rf_reg__n_estimators': 30, 'rf_reg__min_samples_split': 10, 'rf_reg__min_samples_leaf': 4, 'rf_reg__max_features': 2, 'preparation__num_pipe__imputer__strategy': 'most_frequent', 'preparation__num_pipe__adder__add_features': 3}\n",
            "\n",
            "\n",
            "-51051.375357085024 {'rf_reg__n_estimators': 50, 'rf_reg__min_samples_split': 2, 'rf_reg__min_samples_leaf': 1, 'rf_reg__max_features': 6, 'preparation__num_pipe__imputer__strategy': 'median', 'preparation__num_pipe__adder__add_features': 2}\n",
            "\n",
            "\n",
            "-50839.07427577467 {'rf_reg__n_estimators': 50, 'rf_reg__min_samples_split': 10, 'rf_reg__min_samples_leaf': 1, 'rf_reg__max_features': 6, 'preparation__num_pipe__imputer__strategy': 'most_frequent', 'preparation__num_pipe__adder__add_features': 1}\n",
            "\n",
            "\n",
            "-55532.77455350858 {'rf_reg__n_estimators': 50, 'rf_reg__min_samples_split': 5, 'rf_reg__min_samples_leaf': 4, 'rf_reg__max_features': 2, 'preparation__num_pipe__imputer__strategy': 'mean', 'preparation__num_pipe__adder__add_features': 2}\n",
            "\n",
            "\n",
            "-54316.03857732904 {'rf_reg__n_estimators': 50, 'rf_reg__min_samples_split': 2, 'rf_reg__min_samples_leaf': 2, 'rf_reg__max_features': 2, 'preparation__num_pipe__imputer__strategy': 'most_frequent', 'preparation__num_pipe__adder__add_features': 2}\n",
            "\n",
            "\n"
          ],
          "name": "stdout"
        }
      ]
    },
    {
      "cell_type": "markdown",
      "metadata": {
        "id": "W5s7iuKn7dbn"
      },
      "source": [
        "#feature importance"
      ]
    },
    {
      "cell_type": "code",
      "metadata": {
        "colab": {
          "base_uri": "https://localhost:8080/"
        },
        "id": "itdUOPETAsQD",
        "outputId": "d35bbb73-6819-4c5b-9e58-218003c9097e"
      },
      "source": [
        "forest_rs.best_estimator_[1]"
      ],
      "execution_count": 271,
      "outputs": [
        {
          "output_type": "execute_result",
          "data": {
            "text/plain": [
              "RandomForestRegressor(bootstrap=True, ccp_alpha=0.0, criterion='mse',\n",
              "                      max_depth=None, max_features=10, max_leaf_nodes=None,\n",
              "                      max_samples=None, min_impurity_decrease=0.0,\n",
              "                      min_impurity_split=None, min_samples_leaf=4,\n",
              "                      min_samples_split=5, min_weight_fraction_leaf=0.0,\n",
              "                      n_estimators=50, n_jobs=None, oob_score=False,\n",
              "                      random_state=None, verbose=0, warm_start=False)"
            ]
          },
          "metadata": {
            "tags": []
          },
          "execution_count": 271
        }
      ]
    },
    {
      "cell_type": "code",
      "metadata": {
        "colab": {
          "base_uri": "https://localhost:8080/"
        },
        "id": "ZaOzSnUmAfQn",
        "outputId": "08cdc6b4-9d93-4438-9d90-16b6d73b4733"
      },
      "source": [
        "extra_cols = [\"bedrooms_per_room\", \"rooms_per_household\", \"population_per_household\"]\n",
        "\n",
        "encoder_cols = list(cat_encoder.categories_[0])\n",
        "\n",
        "# cat_encoder = full_pipeline[0].named_transformers_['cat_pipe']\n",
        "\n",
        "attr_cols = numerical_cols + encoder_cols + extra_cols\n",
        "\n",
        "feature_importance = forest_rs.best_estimator_[1].feature_importances_\n",
        "sorted(zip(feature_importance, attr_cols), reverse=True)"
      ],
      "execution_count": 347,
      "outputs": [
        {
          "output_type": "execute_result",
          "data": {
            "text/plain": [
              "[(0.44644303835821636, 'median_income'),\n",
              " (0.15759503075877632, 'NEAR OCEAN'),\n",
              " (0.11819690799510248, 'ISLAND'),\n",
              " (0.061418597458079836, 'longitude'),\n",
              " (0.057699732584457604, 'latitude'),\n",
              " (0.045769756310418325, '<1H OCEAN'),\n",
              " (0.04169704164544937, 'housing_median_age'),\n",
              " (0.026887473136354752, 'INLAND'),\n",
              " (0.009622681944588601, 'total_rooms'),\n",
              " (0.009212272961717302, 'households'),\n",
              " (0.00919789206820029, 'population'),\n",
              " (0.008945178235542523, 'total_bedrooms'),\n",
              " (0.0032468154909534325, 'NEAR BAY'),\n",
              " (0.0026880566198419094, 'population_per_household'),\n",
              " (0.001379524432300939, 'rooms_per_household'),\n",
              " (0.0, 'bedrooms_per_room')]"
            ]
          },
          "metadata": {
            "tags": []
          },
          "execution_count": 347
        }
      ]
    },
    {
      "cell_type": "markdown",
      "metadata": {
        "id": "K7gQFt0cLsbW"
      },
      "source": [
        "#eval model on test dataset"
      ]
    },
    {
      "cell_type": "code",
      "metadata": {
        "id": "sssJR-AWMo9o"
      },
      "source": [
        "X_test = housing_test.drop(\"median_house_value\", axis=1)\n",
        "\n",
        "y_test = housing_test.median_house_value.copy()"
      ],
      "execution_count": 351,
      "outputs": []
    },
    {
      "cell_type": "code",
      "metadata": {
        "id": "TA0qGLRxL-iR"
      },
      "source": [
        "best_model = forest_rs.best_estimator_\n",
        "\n",
        "#best_model[0] -> fit transform\n",
        "#best_model[1] -> predict"
      ],
      "execution_count": 361,
      "outputs": []
    },
    {
      "cell_type": "code",
      "metadata": {
        "id": "GCTwF2q1MZsp"
      },
      "source": [
        "X_test_prepared = best_model[0].fit_transform(X_test)"
      ],
      "execution_count": 362,
      "outputs": []
    },
    {
      "cell_type": "code",
      "metadata": {
        "colab": {
          "base_uri": "https://localhost:8080/",
          "height": 439
        },
        "id": "GOTJ-w0mM1Lt",
        "outputId": "f1e77a68-0e7d-41db-d286-c4b8a90ecad5"
      },
      "source": [
        "pd.DataFrame(X_test_prepared)"
      ],
      "execution_count": 363,
      "outputs": [
        {
          "output_type": "execute_result",
          "data": {
            "text/html": [
              "<div>\n",
              "<style scoped>\n",
              "    .dataframe tbody tr th:only-of-type {\n",
              "        vertical-align: middle;\n",
              "    }\n",
              "\n",
              "    .dataframe tbody tr th {\n",
              "        vertical-align: top;\n",
              "    }\n",
              "\n",
              "    .dataframe thead th {\n",
              "        text-align: right;\n",
              "    }\n",
              "</style>\n",
              "<table border=\"1\" class=\"dataframe\">\n",
              "  <thead>\n",
              "    <tr style=\"text-align: right;\">\n",
              "      <th></th>\n",
              "      <th>0</th>\n",
              "      <th>1</th>\n",
              "      <th>2</th>\n",
              "      <th>3</th>\n",
              "      <th>4</th>\n",
              "      <th>5</th>\n",
              "      <th>6</th>\n",
              "      <th>7</th>\n",
              "      <th>8</th>\n",
              "      <th>9</th>\n",
              "      <th>10</th>\n",
              "      <th>11</th>\n",
              "      <th>12</th>\n",
              "      <th>13</th>\n",
              "      <th>14</th>\n",
              "      <th>15</th>\n",
              "    </tr>\n",
              "  </thead>\n",
              "  <tbody>\n",
              "    <tr>\n",
              "      <th>0</th>\n",
              "      <td>0.574715</td>\n",
              "      <td>-0.696209</td>\n",
              "      <td>0.032860</td>\n",
              "      <td>1.602628</td>\n",
              "      <td>1.024048</td>\n",
              "      <td>0.614715</td>\n",
              "      <td>1.105510</td>\n",
              "      <td>2.357904</td>\n",
              "      <td>-0.854250</td>\n",
              "      <td>0.730902</td>\n",
              "      <td>-0.437080</td>\n",
              "      <td>1.0</td>\n",
              "      <td>0.0</td>\n",
              "      <td>0.0</td>\n",
              "      <td>0.0</td>\n",
              "      <td>0.0</td>\n",
              "    </tr>\n",
              "    <tr>\n",
              "      <th>1</th>\n",
              "      <td>0.838394</td>\n",
              "      <td>-0.860742</td>\n",
              "      <td>0.824710</td>\n",
              "      <td>0.627178</td>\n",
              "      <td>0.233621</td>\n",
              "      <td>0.184453</td>\n",
              "      <td>0.347308</td>\n",
              "      <td>0.404516</td>\n",
              "      <td>-0.846616</td>\n",
              "      <td>0.551471</td>\n",
              "      <td>-0.254840</td>\n",
              "      <td>1.0</td>\n",
              "      <td>0.0</td>\n",
              "      <td>0.0</td>\n",
              "      <td>0.0</td>\n",
              "      <td>0.0</td>\n",
              "    </tr>\n",
              "    <tr>\n",
              "      <th>2</th>\n",
              "      <td>0.246359</td>\n",
              "      <td>-0.653901</td>\n",
              "      <td>-0.125511</td>\n",
              "      <td>0.711592</td>\n",
              "      <td>0.833637</td>\n",
              "      <td>0.552891</td>\n",
              "      <td>0.899397</td>\n",
              "      <td>-0.446556</td>\n",
              "      <td>-0.034695</td>\n",
              "      <td>-0.224920</td>\n",
              "      <td>-0.352712</td>\n",
              "      <td>1.0</td>\n",
              "      <td>0.0</td>\n",
              "      <td>0.0</td>\n",
              "      <td>0.0</td>\n",
              "      <td>0.0</td>\n",
              "    </tr>\n",
              "    <tr>\n",
              "      <th>3</th>\n",
              "      <td>0.694117</td>\n",
              "      <td>-0.658602</td>\n",
              "      <td>1.854116</td>\n",
              "      <td>-0.384511</td>\n",
              "      <td>-0.539094</td>\n",
              "      <td>-0.359433</td>\n",
              "      <td>-0.459968</td>\n",
              "      <td>0.160083</td>\n",
              "      <td>-0.642421</td>\n",
              "      <td>0.089414</td>\n",
              "      <td>0.122418</td>\n",
              "      <td>0.0</td>\n",
              "      <td>1.0</td>\n",
              "      <td>0.0</td>\n",
              "      <td>0.0</td>\n",
              "      <td>0.0</td>\n",
              "    </tr>\n",
              "    <tr>\n",
              "      <th>4</th>\n",
              "      <td>0.927946</td>\n",
              "      <td>-0.719714</td>\n",
              "      <td>0.270415</td>\n",
              "      <td>-0.389200</td>\n",
              "      <td>-0.521381</td>\n",
              "      <td>-0.318495</td>\n",
              "      <td>-0.509043</td>\n",
              "      <td>0.099254</td>\n",
              "      <td>-0.560275</td>\n",
              "      <td>0.270989</td>\n",
              "      <td>0.356963</td>\n",
              "      <td>0.0</td>\n",
              "      <td>1.0</td>\n",
              "      <td>0.0</td>\n",
              "      <td>0.0</td>\n",
              "      <td>0.0</td>\n",
              "    </tr>\n",
              "    <tr>\n",
              "      <th>...</th>\n",
              "      <td>...</td>\n",
              "      <td>...</td>\n",
              "      <td>...</td>\n",
              "      <td>...</td>\n",
              "      <td>...</td>\n",
              "      <td>...</td>\n",
              "      <td>...</td>\n",
              "      <td>...</td>\n",
              "      <td>...</td>\n",
              "      <td>...</td>\n",
              "      <td>...</td>\n",
              "      <td>...</td>\n",
              "      <td>...</td>\n",
              "      <td>...</td>\n",
              "      <td>...</td>\n",
              "      <td>...</td>\n",
              "    </tr>\n",
              "    <tr>\n",
              "      <th>4123</th>\n",
              "      <td>-0.987461</td>\n",
              "      <td>1.400413</td>\n",
              "      <td>0.349600</td>\n",
              "      <td>0.980608</td>\n",
              "      <td>1.371659</td>\n",
              "      <td>0.806872</td>\n",
              "      <td>1.387689</td>\n",
              "      <td>-0.999550</td>\n",
              "      <td>0.287333</td>\n",
              "      <td>-0.408056</td>\n",
              "      <td>-0.455647</td>\n",
              "      <td>0.0</td>\n",
              "      <td>1.0</td>\n",
              "      <td>0.0</td>\n",
              "      <td>0.0</td>\n",
              "      <td>0.0</td>\n",
              "    </tr>\n",
              "    <tr>\n",
              "      <th>4124</th>\n",
              "      <td>-0.445177</td>\n",
              "      <td>-0.447059</td>\n",
              "      <td>0.112045</td>\n",
              "      <td>-0.180297</td>\n",
              "      <td>-0.082993</td>\n",
              "      <td>-0.038615</td>\n",
              "      <td>-0.094363</td>\n",
              "      <td>-0.998379</td>\n",
              "      <td>0.164695</td>\n",
              "      <td>-0.315366</td>\n",
              "      <td>0.005755</td>\n",
              "      <td>0.0</td>\n",
              "      <td>0.0</td>\n",
              "      <td>0.0</td>\n",
              "      <td>0.0</td>\n",
              "      <td>1.0</td>\n",
              "    </tr>\n",
              "    <tr>\n",
              "      <th>4125</th>\n",
              "      <td>0.524964</td>\n",
              "      <td>-0.668003</td>\n",
              "      <td>0.191230</td>\n",
              "      <td>0.164180</td>\n",
              "      <td>0.275688</td>\n",
              "      <td>0.031563</td>\n",
              "      <td>0.428281</td>\n",
              "      <td>0.557413</td>\n",
              "      <td>0.065584</td>\n",
              "      <td>-0.488889</td>\n",
              "      <td>-0.501762</td>\n",
              "      <td>1.0</td>\n",
              "      <td>0.0</td>\n",
              "      <td>0.0</td>\n",
              "      <td>0.0</td>\n",
              "      <td>0.0</td>\n",
              "    </tr>\n",
              "    <tr>\n",
              "      <th>4126</th>\n",
              "      <td>1.107049</td>\n",
              "      <td>-0.757321</td>\n",
              "      <td>-0.125511</td>\n",
              "      <td>1.183542</td>\n",
              "      <td>0.665367</td>\n",
              "      <td>0.795175</td>\n",
              "      <td>0.801248</td>\n",
              "      <td>0.457681</td>\n",
              "      <td>-0.875028</td>\n",
              "      <td>0.632273</td>\n",
              "      <td>-0.061039</td>\n",
              "      <td>0.0</td>\n",
              "      <td>1.0</td>\n",
              "      <td>0.0</td>\n",
              "      <td>0.0</td>\n",
              "      <td>0.0</td>\n",
              "    </tr>\n",
              "    <tr>\n",
              "      <th>4127</th>\n",
              "      <td>0.316011</td>\n",
              "      <td>0.558943</td>\n",
              "      <td>-0.758991</td>\n",
              "      <td>-0.456987</td>\n",
              "      <td>-0.499241</td>\n",
              "      <td>-1.053701</td>\n",
              "      <td>-1.053770</td>\n",
              "      <td>-0.034750</td>\n",
              "      <td>-0.212245</td>\n",
              "      <td>8.130181</td>\n",
              "      <td>-0.397634</td>\n",
              "      <td>0.0</td>\n",
              "      <td>1.0</td>\n",
              "      <td>0.0</td>\n",
              "      <td>0.0</td>\n",
              "      <td>0.0</td>\n",
              "    </tr>\n",
              "  </tbody>\n",
              "</table>\n",
              "<p>4128 rows × 16 columns</p>\n",
              "</div>"
            ],
            "text/plain": [
              "            0         1         2         3         4   ...   11   12   13   14   15\n",
              "0     0.574715 -0.696209  0.032860  1.602628  1.024048  ...  1.0  0.0  0.0  0.0  0.0\n",
              "1     0.838394 -0.860742  0.824710  0.627178  0.233621  ...  1.0  0.0  0.0  0.0  0.0\n",
              "2     0.246359 -0.653901 -0.125511  0.711592  0.833637  ...  1.0  0.0  0.0  0.0  0.0\n",
              "3     0.694117 -0.658602  1.854116 -0.384511 -0.539094  ...  0.0  1.0  0.0  0.0  0.0\n",
              "4     0.927946 -0.719714  0.270415 -0.389200 -0.521381  ...  0.0  1.0  0.0  0.0  0.0\n",
              "...        ...       ...       ...       ...       ...  ...  ...  ...  ...  ...  ...\n",
              "4123 -0.987461  1.400413  0.349600  0.980608  1.371659  ...  0.0  1.0  0.0  0.0  0.0\n",
              "4124 -0.445177 -0.447059  0.112045 -0.180297 -0.082993  ...  0.0  0.0  0.0  0.0  1.0\n",
              "4125  0.524964 -0.668003  0.191230  0.164180  0.275688  ...  1.0  0.0  0.0  0.0  0.0\n",
              "4126  1.107049 -0.757321 -0.125511  1.183542  0.665367  ...  0.0  1.0  0.0  0.0  0.0\n",
              "4127  0.316011  0.558943 -0.758991 -0.456987 -0.499241  ...  0.0  1.0  0.0  0.0  0.0\n",
              "\n",
              "[4128 rows x 16 columns]"
            ]
          },
          "metadata": {
            "tags": []
          },
          "execution_count": 363
        }
      ]
    },
    {
      "cell_type": "code",
      "metadata": {
        "id": "X1w-NVZiM2o_"
      },
      "source": [
        "y_pred = best_model[1].predict(X_test_prepared)"
      ],
      "execution_count": 367,
      "outputs": []
    },
    {
      "cell_type": "code",
      "metadata": {
        "colab": {
          "base_uri": "https://localhost:8080/"
        },
        "id": "uuIoEhxKNLSN",
        "outputId": "58b34740-6544-4b16-b4c7-812538d8d9a1"
      },
      "source": [
        "from sklearn.metrics import mean_squared_error\n",
        "\n",
        "final_mse = mean_squared_error(y_test, y_pred)\n",
        "final_rmse = np.sqrt(final_mse)\n",
        "final_rmse"
      ],
      "execution_count": 369,
      "outputs": [
        {
          "output_type": "execute_result",
          "data": {
            "text/plain": [
              "70131.18646912018"
            ]
          },
          "metadata": {
            "tags": []
          },
          "execution_count": 369
        }
      ]
    },
    {
      "cell_type": "code",
      "metadata": {
        "id": "TKd4Na3EOkNK"
      },
      "source": [
        ""
      ],
      "execution_count": null,
      "outputs": []
    }
  ]
}